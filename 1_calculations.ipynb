{
 "cells": [
  {
   "cell_type": "code",
   "execution_count": 1,
   "metadata": {},
   "outputs": [],
   "source": [
    "from math import sqrt"
   ]
  },
  {
   "cell_type": "markdown",
   "metadata": {},
   "source": [
    "## Initial Data"
   ]
  },
  {
   "cell_type": "code",
   "execution_count": 34,
   "metadata": {},
   "outputs": [
    {
     "name": "stdout",
     "output_type": "stream",
     "text": [
      "in meters:\n",
      "Dam height (Ht) = 46\n",
      "Dam foot width (B) = 87.4\n",
      "(Nakat?) dhw = 0.2284727272727273\n",
      "Height above reservoir level (dc) = 1.6284727272727273\n"
     ]
    }
   ],
   "source": [
    "#initial data\n",
    "const_pi = 3.1415\n",
    "\n",
    "hw = 0.8\n",
    "Lw = 11 * hw\n",
    "dhw = const_pi * hw ** 2 / Lw\n",
    "\n",
    "n = 0.4  #0.3 - 0.5\n",
    "m = 1.5\n",
    "Ht = 46\n",
    "H2 = 105.2 - 98\n",
    "\n",
    "#coast:\n",
    "Bc = 8\n",
    "dc = hw + dhw + 0.6\n",
    "#how to calculate ec?\n",
    "ec = 0.5\n",
    "\n",
    "B = n * Ht + m * Ht\n",
    "b = 5\n",
    "D = 10\n",
    "d = 5\n",
    "\n",
    "W_ice = 10000 #in kg / m\n",
    "h_ice = 1 #in meters\n",
    "\n",
    "print(\"in meters:\")\n",
    "print(\"Dam height (Ht) =\", Ht)\n",
    "print(\"Dam foot width (B) =\", B)\n",
    "print(\"(Nakat?) dhw =\",dhw)\n",
    "print(\"Height above reservoir level (dc) =\", dc)"
   ]
  },
  {
   "cell_type": "markdown",
   "metadata": {},
   "source": [
    "## Geometrical characteristics"
   ]
  },
  {
   "cell_type": "code",
   "execution_count": 32,
   "metadata": {},
   "outputs": [
    {
     "name": "stdout",
     "output_type": "stream",
     "text": [
      "Area (F) = 468.73145600891814\n",
      "x_A (x_cm) = 40.95969813970832\n",
      "x_B = 46.44030186029168\n",
      "Jy = 326768.2938831049\n",
      "W_A = 7977.80034336532\n",
      "W_B = 7036.308568065207\n"
     ]
    }
   ],
   "source": [
    "sqrt1n = sqrt(1 + n ** 2)\n",
    "a = (D - d) / 2\n",
    "\n",
    "F = B * d + a * (2 * b + a * sqrt1n)\n",
    "print(\"Area (F) =\", F)\n",
    "\n",
    "x_cm = (0.5 * B ** 2 * d + a * b ** 2 + a ** 2 * (b + a * sqrt1n / 3) * sqrt1n) / F\n",
    "print(\"x_A (x_cm) =\", x_cm)\n",
    "x_B = B - x_cm\n",
    "print(\"x_B =\", x_B)\n",
    "\n",
    "Jy_list = [0, 0, 0, 0, 0, 0]\n",
    "Jy_list[0] = B ** 3 * d / 12\n",
    "Jy_list[1] = a * b ** 3 / 6\n",
    "Jy_list[2] = a ** 4 / 18 * sqrt1n ** 1.5\n",
    "Jy_list[3] = (x_cm - 0.5 * B) ** 2 * B * d\n",
    "Jy_list[4] = 2 * (x_cm - 0.5 * b) ** 2 * a * b\n",
    "Jy_list[5] = a ** 2 *(x_cm - b - a * sqrt1n / 3) ** 2 * sqrt1n\n",
    "\n",
    "Jy = 0\n",
    "for item in Jy_list:\n",
    "    Jy += item\n",
    "print(\"Jy =\", Jy)\n",
    "\n",
    "W_A = Jy / x_cm\n",
    "W_B = Jy / x_B\n",
    "\n",
    "print(\"W_A =\", W_A)\n",
    "print(\"W_B =\", W_B)"
   ]
  },
  {
   "cell_type": "markdown",
   "metadata": {},
   "source": [
    "## Loads"
   ]
  },
  {
   "cell_type": "code",
   "execution_count": 37,
   "metadata": {},
   "outputs": [
    {
     "name": "stdout",
     "output_type": "stream",
     "text": [
      "in kilograms and kilograms * meters\n",
      "# | G | M\n",
      "1 | 24122400.0 | -137329582.4053\n",
      "2 | 3503152.7433845615 | -99976309.95026195\n",
      "3 | 312666.7636363636 | -235487613.7444975\n",
      "4 | 367500.0 | -9148189.066342806\n",
      "5 | -26133.333333333332 | -475154.1854584515\n",
      "6 | -42732.9957552047 | 718235.5991536195\n"
     ]
    }
   ],
   "source": [
    "#own weight\n",
    "\n",
    "dens_c = 2400 #kg / m**3\n",
    "\n",
    "print(\"in kilograms and kilograms * meters\")\n",
    "print(\"# | G | M\")\n",
    "\n",
    "G1 = 0.5 * dens_c * B * Ht * d\n",
    "M1 = dens_c * Ht * B * d * (B - 3 * x_cm + n * Ht) / 6\n",
    "print(\"1\", G1, M1, sep=\" | \")\n",
    "\n",
    "G2 = dens_c * Ht * (a * sqrt1n + 2 * b) * a\n",
    "M2 = -dens_c * Ht * a * (b * (2 * x_cm - b - n * Ht) + a * sqrt1n * (x_cm - b - n * Ht / 2 - a / 3 * sqrt1n))\n",
    "print(\"2\", G2, M2, sep=\" | \")\n",
    "\n",
    "G3 = dens_c * Bc * D * dc\n",
    "M3 = -G3 * (x_cm * n * Ht - ec)\n",
    "print(\"3\", G3, M3, sep=\" | \")\n",
    "\n",
    "a1 = (0.5 * Bc - ec)\n",
    "G4 = 0.5 * dens_c * D * a1 ** 2 / n\n",
    "M4 = -G4 * (x_cm - n * Ht + 2 * a1 / 3)\n",
    "print(\"4\", G4, M4, sep=\" | \")\n",
    "\n",
    "a2 = (0.5 * Bc - ec)\n",
    "G5 = -0.5 * dens_c * n * D * a2 ** 2 / m ** 2\n",
    "M5 = G5 * (x_cm - b - n * Ht + 2 * n * a2 / 3 / m)\n",
    "print(\"5\", G5, M5, sep=\" | \")\n",
    "\n",
    "a_star = a2 * (b + a * sqrt1n) * sqrt1n / m / b\n",
    "b_star = x_cm - b - n * Ht - a * sqrt1n\n",
    "n1 = (1 - n * m) / (n + m)\n",
    "G6 = -dens_c * a ** 2 * (a_star - 2 * a * (1 + n ** 2) * Ht / 3 / B)\n",
    "M6_1 = a_star * (b_star + n * a / 2 + 2 * a / 3 / sqrt1n)\n",
    "M6_2_2 = n * (2 + n ** 2) / sqrt1n + n1 * (2 - n ** 2) / (sqrt(1 + n1 ** 2))\n",
    "M6_2 = -2/3 * a *(n * n1 * a_star + (n + n1) * b_star + 3 / 8 * M6_2_2 * a)\n",
    "M6 = dens_c * a ** 2 * (M6_1 + M6_2)\n",
    "print(\"6\", G6, M6, sep=\" | \")"
   ]
  },
  {
   "cell_type": "code",
   "execution_count": 40,
   "metadata": {},
   "outputs": [
    {
     "name": "stdout",
     "output_type": "stream",
     "text": [
      "Upper beef: \n",
      "W | M\n",
      "10580000.0 | 162226666.66666666\n",
      "4232000.0 | -147385175.86057895\n",
      "Lower beef: \n",
      "W | M\n",
      "-259200.00000000017 | -622080.0000000007\n",
      "142560.0000000001 | -10077739.033203188\n"
     ]
    }
   ],
   "source": [
    "#water pressure\n",
    "dens_w = 1000 #kg / m ** 3\n",
    "\n",
    "print(\"Upper beef: \")\n",
    "print(\"W | M\")\n",
    "#upper horizontal\n",
    "H1 = Ht\n",
    "W_uphor = 0.5 * dens_w * H1 ** 2 * D\n",
    "M_uphor = dens_w * H1 ** 3 * D / 6\n",
    "print(W_uphor, M_uphor, sep=\" | \")\n",
    "\n",
    "#upper vertical\n",
    "W_upvert = n * W_uphor\n",
    "M_upvert = - dens_w * n * D * H1 ** 2 * (3 * x_cm - n * H1) / 6\n",
    "print(W_upvert, M_upvert, sep=\" | \")\n",
    "\n",
    "print(\"Lower beef: \")\n",
    "print(\"W | M\")\n",
    "#lower horizontal\n",
    "W_lowhor = -0.5 * dens_w * H2 ** 2 * D\n",
    "M_lowhor = W_lowhor * H2 / 3\n",
    "print(W_lowhor, M_lowhor, sep=\" | \")\n",
    "\n",
    "#lower vertical\n",
    "W_lowvert = (n - B * d / Ht / D) * W_lowhor\n",
    "M_lowvert_1 = 2 * n * a * (x_cm - b - a / 2 - n * H2 / 3)\n",
    "M_lowvert_2 = m * (x_B - m * H2 / 3) * d\n",
    "M_lowvert = (M_lowvert_1 + M_lowvert_2) * W_lowhor / D\n",
    "print(W_lowvert, M_lowvert, sep=\" | \")"
   ]
  },
  {
   "cell_type": "code",
   "execution_count": 42,
   "metadata": {},
   "outputs": [
    {
     "name": "stdout",
     "output_type": "stream",
     "text": [
      "# | U | M\n",
      "1 | -3371400.0000000014 | 0\n",
      "2 | -2910000.0 | 108280221.58655122\n"
     ]
    }
   ],
   "source": [
    "#filtering pressure\n",
    "\n",
    "U1 = -dens_w * H2 * (D * b + a * (D + d) / 2 + (B - b - a) * d)\n",
    "M_U1 = 0\n",
    "U2 = -dens_w * (H1 - H2) * (b + a) * D\n",
    "M_U2 = -U2 * (x_cm - (b + a) / 2)\n",
    "\n",
    "print(\"# | U | M\")\n",
    "print(\"1\", U1, M_U1, sep=\" | \")\n",
    "print(\"2\", U2, M_U2, sep=\" | \")"
   ]
  },
  {
   "cell_type": "code",
   "execution_count": 44,
   "metadata": {},
   "outputs": [
    {
     "name": "stdout",
     "output_type": "stream",
     "text": [
      "W | M\n",
      "horizontal part\n",
      "425250.0 | 1275750.0\n",
      "vertical part\n",
      "170100.0 | -6763124.653564385\n"
     ]
    }
   ],
   "source": [
    "#alluvium pressure\n",
    "dens_allu = 1050 #in kg / m ** 3\n",
    "H_allu = 9 #in meters\n",
    "\n",
    "W_alluhor = 0.5 * dens_allu * H_allu ** 2 * D\n",
    "M_alluhor = W_alluhor * H_allu / 3\n",
    "\n",
    "W_alluvert = 0.5 * dens_allu * n * H_allu ** 2 * D\n",
    "M_alluvert = -W_alluvert *  (x_cm - n * H_allu / 3)\n",
    "\n",
    "print(\"W | M\")\n",
    "print(\"horizontal part\")\n",
    "print(W_alluhor, M_alluhor, sep=\" | \")\n",
    "print(\"vertical part\")\n",
    "print(W_alluvert, M_alluvert, sep=\" | \")"
   ]
  },
  {
   "cell_type": "code",
   "execution_count": 53,
   "metadata": {},
   "outputs": [
    {
     "name": "stdout",
     "output_type": "stream",
     "text": [
      "wave pressure:\n",
      "horizontal part\n",
      "W | M\n",
      "12804.838452968328 | 574929.5020872002\n",
      "vertical part:\n",
      "W\n",
      "5121.935381187332\n",
      "\n",
      "ice pressure: W | M\n",
      "10000 | 455500.0\n"
     ]
    }
   ],
   "source": [
    "#wave pressure\n",
    "\n",
    "W_wavhor = dens_w * hw * (Lw / const_pi + hw / 2) * D / 2\n",
    "M_wavhor = W_wavhor * (H1 - Lw / 2 / const_pi + 3 * hw / 8)\n",
    "\n",
    "W_wavvert = W_wavhor * n\n",
    "\n",
    "print(\"wave pressure:\")\n",
    "print(\"horizontal part\")\n",
    "print(\"W | M\")\n",
    "print(W_wavhor, M_wavhor, sep=\" | \")\n",
    "print(\"vertical part:\")\n",
    "print(\"W\")\n",
    "print(W_wavvert)\n",
    "print()\n",
    "\n",
    "#ice pressure\n",
    "\n",
    "M_ice = W_ice * (H1 - 0.45 * h_ice)\n",
    "print(\"ice pressure: W | M\")\n",
    "print(W_ice, M_ice, sep=\" | \")"
   ]
  },
  {
   "cell_type": "code",
   "execution_count": 54,
   "metadata": {},
   "outputs": [
    {
     "name": "stdout",
     "output_type": "stream",
     "text": [
      "N = 26505235.113313578 kg\n",
      "Qsummer = | 10758854.838452969 | Qwinter = | 10756050.0 | kg\n",
      "Msummer = | -374189165.54474866 | Mwinter = | -374308595.04683584 | kg * m\n"
     ]
    }
   ],
   "source": [
    "#summary\n",
    "\n",
    "N = G1 + G2 + G3 + G4 + G5 + G6 + W_upvert + W_lowvert + U1 + U2 + W_wavvert + W_alluvert\n",
    "Qsummer = W_uphor + W_lowhor + W_alluhor + W_wavhor\n",
    "Qwinter = W_uphor + W_lowhor + W_alluhor + W_ice\n",
    "Msummer = M1 + M2 + M3 + M4 + M5 + M6 + M_uphor + M_lowhor + M_upvert + M_lowvert + M_U2 + M_alluhor + M_alluvert + M_wavhor\n",
    "Mwinter = M1 + M2 + M3 + M4 + M5 + M6 + M_uphor + M_lowhor + M_upvert + M_lowvert + M_U2 + M_alluhor + M_alluvert + M_ice\n",
    "\n",
    "print(\"N =\", N, \"kg\")\n",
    "print(\"Qsummer =\", Qsummer, \"Qwinter =\", Qwinter, \"kg\", sep=\" | \")\n",
    "print(\"Msummer =\", Msummer, \"Mwinter =\", Mwinter, \"kg * m\", sep=\" | \")"
   ]
  },
  {
   "cell_type": "code",
   "execution_count": null,
   "metadata": {},
   "outputs": [],
   "source": []
  }
 ],
 "metadata": {
  "kernelspec": {
   "display_name": "Python 3",
   "language": "python",
   "name": "python3"
  },
  "language_info": {
   "codemirror_mode": {
    "name": "ipython",
    "version": 3
   },
   "file_extension": ".py",
   "mimetype": "text/x-python",
   "name": "python",
   "nbconvert_exporter": "python",
   "pygments_lexer": "ipython3",
   "version": "3.6.5"
  }
 },
 "nbformat": 4,
 "nbformat_minor": 2
}
