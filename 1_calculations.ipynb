{
 "cells": [
  {
   "cell_type": "code",
   "execution_count": 1,
   "metadata": {},
   "outputs": [],
   "source": [
    "from math import sqrt"
   ]
  },
  {
   "cell_type": "markdown",
   "metadata": {},
   "source": [
    "## Initial Data"
   ]
  },
  {
   "cell_type": "code",
   "execution_count": 2,
   "metadata": {},
   "outputs": [
    {
     "name": "stdout",
     "output_type": "stream",
     "text": [
      "in meters:\n",
      "Dam height (Ht) = 50\n",
      "Dam foot width (B) = 41\n",
      "(Nakat?) dhw = 0.2284727272727273\n",
      "Height above reservoir level (dc) = 1.6284727272727273\n",
      "m = 0.6199999999999999\n",
      "Lower beef depth (H2) = 7.200000000000003\n"
     ]
    }
   ],
   "source": [
    "#constant\n",
    "const_pi = 3.1415\n",
    "\n",
    "#dam profile\n",
    "B = 41\n",
    "n = 0.2  #0.1 - 0.5\n",
    "Ht = 50 #height of triangle profile\n",
    "H2 = 105.2 - 98 # = 7.2 meters\n",
    "\n",
    "#section profile\n",
    "b = 5 #meters\n",
    "D = 10 #meters\n",
    "d = 5 #meters\n",
    "\n",
    "#coast:\n",
    "Bc = 8 #meters\n",
    "\n",
    "#reservoir\n",
    "hw = 0.8 #meters\n",
    "W_ice = 10 #in tons / m\n",
    "h_ice = 1 #in meters\n",
    "H_allu = 24 #in meters - Alluvium layer thickness\n",
    "\n",
    "#density\n",
    "dens_c = 2.4 #tons / m**3 - Concrete\n",
    "dens_w = 1 #tons / m ** 3 - Water\n",
    "dens_allu = 1.05 #tons / m ** 3 - Alluvium\n",
    "\n",
    "#secondary data\n",
    "Lw = 11 * hw #in meters\n",
    "dhw = const_pi * hw ** 2 / Lw #in meters\n",
    "\n",
    "m = B / Ht - n\n",
    "\n",
    "dc = hw + dhw + 0.6 #meters\n",
    "#how to calculate ec?\n",
    "ec = 0.5 #meters\n",
    "\n",
    "#criteria\n",
    "#sigma_a = 0.1 #MPa\n",
    "sigma_a = 1000 #tons / m**2\n",
    "\n",
    "print(\"in meters:\")\n",
    "print(\"Dam height (Ht) =\", Ht)\n",
    "print(\"Dam foot width (B) =\", B)\n",
    "print(\"(Nakat?) dhw =\",dhw)\n",
    "print(\"Height above reservoir level (dc) =\", dc)\n",
    "print(\"m =\", m)\n",
    "print(\"Lower beef depth (H2) =\", H2)"
   ]
  },
  {
   "cell_type": "markdown",
   "metadata": {},
   "source": [
    "## Geometrical characteristics"
   ]
  },
  {
   "cell_type": "code",
   "execution_count": 3,
   "metadata": {},
   "outputs": [
    {
     "name": "stdout",
     "output_type": "stream",
     "text": [
      "Area (F) = 236.373774391991\n",
      "x_A (x_cm) = 18.201196599297504\n",
      "x_B = 22.798803400702496\n",
      "Jy = 36990.27098262183\n",
      "W_A = 2032.2988535846873\n",
      "W_B = 1622.4654571775486\n"
     ]
    }
   ],
   "source": [
    "sqrt1n = sqrt(1 + n ** 2)\n",
    "a = (D - d) / 2\n",
    "\n",
    "F = B * d + a * (2 * b + a * sqrt1n)\n",
    "print(\"Area (F) =\", F)\n",
    "\n",
    "x_cm = (0.5 * B ** 2 * d + a * b ** 2 + a ** 2 * (b + a * sqrt1n / 3) * sqrt1n) / F\n",
    "print(\"x_A (x_cm) =\", x_cm)\n",
    "x_B = B - x_cm\n",
    "print(\"x_B =\", x_B)\n",
    "\n",
    "Jy_list = [0, 0, 0, 0, 0, 0]\n",
    "Jy_list[0] = B ** 3 * d / 12\n",
    "Jy_list[1] = a * b ** 3 / 6\n",
    "Jy_list[2] = a ** 4 / 18 * sqrt1n ** 1.5\n",
    "Jy_list[3] = (x_cm - 0.5 * B) ** 2 * B * d\n",
    "Jy_list[4] = 2 * (x_cm - 0.5 * b) ** 2 * a * b\n",
    "Jy_list[5] = a ** 2 *(x_cm - b - a * sqrt1n / 3) ** 2 * sqrt1n\n",
    "\n",
    "Jy = 0\n",
    "for item in Jy_list:\n",
    "    Jy += item\n",
    "print(\"Jy =\", Jy)\n",
    "\n",
    "W_A = Jy / x_cm\n",
    "W_B = Jy / x_B\n",
    "\n",
    "print(\"W_A =\", W_A)\n",
    "print(\"W_B =\", W_B)"
   ]
  },
  {
   "cell_type": "markdown",
   "metadata": {},
   "source": [
    "## Loads"
   ]
  },
  {
   "cell_type": "code",
   "execution_count": 4,
   "metadata": {},
   "outputs": [
    {
     "name": "stdout",
     "output_type": "stream",
     "text": [
      "in tons | tons * meters\n",
      "# | G | M\n",
      "1 | 12300.0 | -14774.718171359295\n",
      "2 | 3764.852927038918 | 55629.48724736564\n",
      "3 | 312.6667636363636 | 2407.90821682972\n",
      "4 | 735.0 | -7742.879500483666\n",
      "5 | -76.48283038501563 | -307.01773944780666\n",
      "6 | -330.90994371482185 | 13.334601777915594\n"
     ]
    }
   ],
   "source": [
    "#own weight\n",
    "\n",
    "print(\"in tons | tons * meters\")\n",
    "print(\"# | G | M\")\n",
    "\n",
    "G1 = 0.5 * dens_c * B * Ht * d\n",
    "M1 = dens_c * Ht * B * d * (B - 3 * x_cm + n * Ht) / 6\n",
    "print(\"1\", G1, M1, sep=\" | \")\n",
    "\n",
    "G2 = dens_c * Ht * (a * sqrt1n + 2 * b) * a\n",
    "M2_1 = (2*a + 4*b) * x_cm / 2\n",
    "M2_2 = b + n * Ht\n",
    "M2_3 = a * (2 * a + 6 * b + 3 * n * Ht) / 6\n",
    "M2 = dens_c * Ht * a * (M2_1 - M2_2 - M2_3)\n",
    "print(\"2\", G2, M2, sep=\" | \")\n",
    "\n",
    "G3 = dens_c * Bc * D * dc\n",
    "M3 = G3 * (x_cm - n * Ht - ec)\n",
    "print(\"3\", G3, M3, sep=\" | \")\n",
    "\n",
    "a1 = (0.5 * Bc - ec)\n",
    "G4 = 0.5 * dens_c * D * a1 ** 2 / n\n",
    "M4 = -G4 * (x_cm - n * Ht + 2 * a1 / 3)\n",
    "print(\"4\", G4, M4, sep=\" | \")\n",
    "\n",
    "a2 = (0.5 * Bc - ec)\n",
    "G5 = -0.5 * dens_c * n * D * a2 ** 2 / m ** 2\n",
    "M5_1 = n * Ht * (1 - 2 * b / (3 * B))\n",
    "M5 = G5 * (x_cm - b - M5_1)\n",
    "print(\"5\", G5, M5, sep=\" | \")\n",
    "\n",
    "G6_1 = a ** 2 / (6 * B * (1 + n ** 2))\n",
    "G6_2 = (n * B + (1-n) * Ht) * (D + 2 * d)\n",
    "G6_3 = 3 * (1 + n ** 2) * (D + d) * b * Ht / a\n",
    "G6 = -dens_c * G6_1 * (G6_2 + G6_3)\n",
    "M6_1 = a ** 2 * (D + 2 * d) / (6 * (1 + n ** 2) * B ** 2)\n",
    "M6_1_1 = (x_cm - n * Ht - b) * (n * B + Ht * (1 - n)) * B\n",
    "M6_1_2 = n * b * Ht ** 2 * (1 - n)\n",
    "M6_2 = a ** 3 * (D + 3 * d) / (24 * B ** 2 * sqrt1n)\n",
    "M6_2_1 = n * B ** 2 * (2 + n ** 2)\n",
    "M6_2_2 = (1-n) * (2*B - n * (1-n) * Ht) * Ht\n",
    "M6_3 = a * (D+d) * b * Ht / 2 / B\n",
    "M6_3_1 = x_cm - n * Ht - b\n",
    "M6_3_2 = 2 * a * (D + 2 * d) * B + 3 * n * (1 + n ** 2) * b * Ht * d\n",
    "M6_3_3 = 6 * (1+n**2) * B * d\n",
    "M6 = -dens_c * M6_1 * (M6_1_1 + M6_1_2) + dens_c * M6_2 * (M6_2_1 + M6_2_2) - dens_c * M6_3 * (M6_3_1 - M6_3_2 / M6_3_3)\n",
    "print(\"6\", G6, M6, sep=\" | \")"
   ]
  },
  {
   "cell_type": "code",
   "execution_count": 5,
   "metadata": {},
   "outputs": [
    {
     "name": "stdout",
     "output_type": "stream",
     "text": [
      "Upper beef: \n",
      "W | M\n",
      "12500.0 | 208333.33333333334\n",
      "2500.0 | -37169.65816491043\n",
      "Lower beef: \n",
      "W | M\n",
      "-259.2000000000002 | -622.0800000000007\n",
      "54.43200000000004 | -2009.6990907070399\n"
     ]
    }
   ],
   "source": [
    "#water pressure\n",
    "\n",
    "print(\"Upper beef: \")\n",
    "print(\"W | M\")\n",
    "#upper horizontal\n",
    "H1 = Ht\n",
    "W_uphor = 0.5 * dens_w * H1 ** 2 * D\n",
    "M_uphor = dens_w * H1 ** 3 * D / 6\n",
    "print(W_uphor, M_uphor, sep=\" | \")\n",
    "\n",
    "#upper vertical\n",
    "W_upvert = n * W_uphor\n",
    "M_upvert = - dens_w * n * D * H1 ** 2 * (3 * x_cm - n * H1) / 6\n",
    "print(W_upvert, M_upvert, sep=\" | \")\n",
    "\n",
    "print(\"Lower beef: \")\n",
    "print(\"W | M\")\n",
    "#lower horizontal\n",
    "W_lowhor = -0.5 * dens_w * H2 ** 2 * D\n",
    "M_lowhor = W_lowhor * H2 / 3\n",
    "print(W_lowhor, M_lowhor, sep=\" | \")\n",
    "\n",
    "#lower vertical\n",
    "W_lowvert = (n - B * d / Ht / D) * W_lowhor\n",
    "M_lowvert_1 = 2 * n * a * (x_cm - b - a / 2 - n * H2 / 3)\n",
    "M_lowvert_2 = m * (x_B - m * H2 / 3) * d\n",
    "M_lowvert = (M_lowvert_1 + M_lowvert_2) * W_lowhor / D\n",
    "print(W_lowvert, M_lowvert, sep=\" | \")"
   ]
  },
  {
   "cell_type": "code",
   "execution_count": 6,
   "metadata": {},
   "outputs": [
    {
     "name": "stdout",
     "output_type": "stream",
     "text": [
      "# | U | M\n",
      "1 | -1701.0000000000007 | 0\n",
      "2 | -3210.0 | 46388.341083744985\n"
     ]
    }
   ],
   "source": [
    "#filtering pressure\n",
    "\n",
    "U1 = -dens_w * H2 * (D * b + a * (D + d) / 2 + (B - b - a) * d)\n",
    "M_U1 = 0\n",
    "U2 = -dens_w * (H1 - H2) * (b + a) * D\n",
    "M_U2 = -U2 * (x_cm - (b + a) / 2)\n",
    "\n",
    "print(\"# | U | M\")\n",
    "print(\"1\", U1, M_U1, sep=\" | \")\n",
    "print(\"2\", U2, M_U2, sep=\" | \")"
   ]
  },
  {
   "cell_type": "code",
   "execution_count": 7,
   "metadata": {},
   "outputs": [
    {
     "name": "stdout",
     "output_type": "stream",
     "text": [
      "W | M\n",
      "horizontal part\n",
      "3024.0000000000005 | 24192.000000000004\n",
      "vertical part\n",
      "604.8000000000001 | -10040.40370325513\n"
     ]
    }
   ],
   "source": [
    "#alluvium pressure\n",
    "\n",
    "W_alluhor = 0.5 * dens_allu * H_allu ** 2 * D\n",
    "M_alluhor = W_alluhor * H_allu / 3\n",
    "\n",
    "W_alluvert = 0.5 * dens_allu * n * H_allu ** 2 * D\n",
    "M_alluvert = -W_alluvert *  (x_cm - n * H_allu / 3)\n",
    "\n",
    "print(\"W | M\")\n",
    "print(\"horizontal part\")\n",
    "print(W_alluhor, M_alluhor, sep=\" | \")\n",
    "print(\"vertical part\")\n",
    "print(W_alluvert, M_alluvert, sep=\" | \")"
   ]
  },
  {
   "cell_type": "code",
   "execution_count": 8,
   "metadata": {},
   "outputs": [
    {
     "name": "stdout",
     "output_type": "stream",
     "text": [
      "wave pressure:\n",
      "horizontal part\n",
      "W | M\n",
      "12.804838452968328 | 626.1488558990735\n",
      "vertical part:\n",
      "W\n",
      "2.5609676905936656\n",
      "\n",
      "ice pressure: W | M\n",
      "10 | 495.5\n"
     ]
    }
   ],
   "source": [
    "#wave pressure\n",
    "\n",
    "W_wavhor = dens_w * hw * (Lw / const_pi + hw / 2) * D / 2\n",
    "M_wavhor = W_wavhor * (H1 - Lw / 2 / const_pi + 3 * hw / 8)\n",
    "\n",
    "W_wavvert = W_wavhor * n\n",
    "\n",
    "print(\"wave pressure:\")\n",
    "print(\"horizontal part\")\n",
    "print(\"W | M\")\n",
    "print(W_wavhor, M_wavhor, sep=\" | \")\n",
    "print(\"vertical part:\")\n",
    "print(\"W\")\n",
    "print(W_wavvert)\n",
    "print()\n",
    "\n",
    "#ice pressure\n",
    "\n",
    "M_ice = W_ice * (H1 - 0.45 * h_ice)\n",
    "print(\"ice pressure: W | M\")\n",
    "print(W_ice, M_ice, sep=\" | \")"
   ]
  },
  {
   "cell_type": "code",
   "execution_count": 9,
   "metadata": {},
   "outputs": [
    {
     "name": "stdout",
     "output_type": "stream",
     "text": [
      "B = 41, Ht = 50, n = 0.2\n",
      "N = 14955.919884266039 tons\n",
      "Qsummer = | 15277.604838452968 | tons | Msummer = | 264924.0969687874 | tons * m\n",
      "Qwinter = | 15274.8 | tons | Mwinter = | 264793.4481128883 | tons * m\n",
      "\n",
      "Stretching stress criteria (must be close to 0) = 2657351.866557817\n"
     ]
    }
   ],
   "source": [
    "#summary\n",
    "\n",
    "N = G1 + G2 + G3 + G4 + G5 + G6 + W_upvert + W_lowvert + U1 + U2 + W_wavvert + W_alluvert\n",
    "Qsummer = W_uphor + W_lowhor + W_alluhor + W_wavhor\n",
    "Qwinter = W_uphor + W_lowhor + W_alluhor + W_ice\n",
    "Msummer = M1 + M2 + M3 + M4 + M5 + M6 + M_uphor + M_lowhor + M_upvert + M_lowvert + M_U2 + M_alluhor + M_alluvert + M_wavhor\n",
    "Mwinter = M1 + M2 + M3 + M4 + M5 + M6 + M_uphor + M_lowhor + M_upvert + M_lowvert + M_U2 + M_alluhor + M_alluvert + M_ice\n",
    "\n",
    "#stretching stress criteria\n",
    "\n",
    "stretch = sigma_a * B ** 2 - N * B + 6 * Msummer\n",
    "\n",
    "#output\n",
    "\n",
    "print(\"B =\", B, end=\", \")\n",
    "print(\"Ht =\", Ht, end=\", \")\n",
    "print(\"n =\", n)\n",
    "print(\"N =\", N, \"tons\")\n",
    "print(\"Qsummer =\", Qsummer, \"tons\", \"Msummer =\" , Msummer, \"tons * m\", sep=\" | \")\n",
    "print(\"Qwinter =\", Qwinter, \"tons\", \"Mwinter =\" , Mwinter, \"tons * m\", sep=\" | \")\n",
    "print()\n",
    "print(\"Stretching stress criteria (must be close to 0) =\", stretch)"
   ]
  },
  {
   "cell_type": "code",
   "execution_count": null,
   "metadata": {},
   "outputs": [],
   "source": []
  }
 ],
 "metadata": {
  "kernelspec": {
   "display_name": "Python 3",
   "language": "python",
   "name": "python3"
  },
  "language_info": {
   "codemirror_mode": {
    "name": "ipython",
    "version": 3
   },
   "file_extension": ".py",
   "mimetype": "text/x-python",
   "name": "python",
   "nbconvert_exporter": "python",
   "pygments_lexer": "ipython3",
   "version": "3.6.5"
  }
 },
 "nbformat": 4,
 "nbformat_minor": 2
}
