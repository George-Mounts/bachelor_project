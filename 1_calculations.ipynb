{
 "cells": [
  {
   "cell_type": "code",
   "execution_count": 1,
   "metadata": {},
   "outputs": [],
   "source": [
    "from math import sqrt"
   ]
  },
  {
   "cell_type": "markdown",
   "metadata": {},
   "source": [
    "## Initial Data"
   ]
  },
  {
   "cell_type": "code",
   "execution_count": 2,
   "metadata": {},
   "outputs": [
    {
     "name": "stdout",
     "output_type": "stream",
     "text": [
      "in meters:\n",
      "Dam height (Ht) = 50\n",
      "Dam foot width (B) = 46\n",
      "(Nakat?) dhw = 0.2284727272727273\n",
      "Height above reservoir level (dc) = 1.6284727272727273\n",
      "m = 0.6200000000000001\n",
      "Lower beef depth (H2) = 7.200000000000003\n"
     ]
    }
   ],
   "source": [
    "#constant\n",
    "const_pi = 3.1415\n",
    "\n",
    "#dam profile\n",
    "B = 46\n",
    "n = 0.3  #0.1 - 0.5\n",
    "Ht = 50 #height of triangle profile\n",
    "H2 = 105.2 - 98 # = 7.2 meters\n",
    "\n",
    "#section profile\n",
    "b = 5\n",
    "D = 10\n",
    "d = 5\n",
    "\n",
    "#coast:\n",
    "Bc = 8\n",
    "\n",
    "#reservoir\n",
    "hw = 0.8\n",
    "W_ice = 10000 #in kg / m\n",
    "h_ice = 1 #in meters\n",
    "H_allu = 9 #in meters - Alluvium layer thickness\n",
    "\n",
    "#density\n",
    "dens_c = 2400 #kg / m**3 - Concrete\n",
    "dens_w = 1000 #kg / m ** 3 - Water\n",
    "dens_allu = 1050 #in kg / m ** 3 - Alluvium\n",
    "\n",
    "#secondary data\n",
    "Lw = 11 * hw\n",
    "dhw = const_pi * hw ** 2 / Lw\n",
    "\n",
    "m = B / Ht - n\n",
    "\n",
    "dc = hw + dhw + 0.6\n",
    "#how to calculate ec?\n",
    "ec = 0.5\n",
    "\n",
    "print(\"in meters:\")\n",
    "print(\"Dam height (Ht) =\", Ht)\n",
    "print(\"Dam foot width (B) =\", B)\n",
    "print(\"(Nakat?) dhw =\",dhw)\n",
    "print(\"Height above reservoir level (dc) =\", dc)\n",
    "print(\"m =\", m)\n",
    "print(\"Lower beef depth (H2) =\", H2)"
   ]
  },
  {
   "cell_type": "markdown",
   "metadata": {},
   "source": [
    "## Geometrical characteristics"
   ]
  },
  {
   "cell_type": "code",
   "execution_count": 3,
   "metadata": {},
   "outputs": [
    {
     "name": "stdout",
     "output_type": "stream",
     "text": [
      "Area (F) = 261.5251915680691\n",
      "x_A (x_cm) = 20.612939842816537\n",
      "x_B = 25.387060157183463\n",
      "Jy = 51541.85607201229\n",
      "W_A = 2500.461189187153\n",
      "W_B = 2030.2412233985324\n"
     ]
    }
   ],
   "source": [
    "sqrt1n = sqrt(1 + n ** 2)\n",
    "a = (D - d) / 2\n",
    "\n",
    "F = B * d + a * (2 * b + a * sqrt1n)\n",
    "print(\"Area (F) =\", F)\n",
    "\n",
    "x_cm = (0.5 * B ** 2 * d + a * b ** 2 + a ** 2 * (b + a * sqrt1n / 3) * sqrt1n) / F\n",
    "print(\"x_A (x_cm) =\", x_cm)\n",
    "x_B = B - x_cm\n",
    "print(\"x_B =\", x_B)\n",
    "\n",
    "Jy_list = [0, 0, 0, 0, 0, 0]\n",
    "Jy_list[0] = B ** 3 * d / 12\n",
    "Jy_list[1] = a * b ** 3 / 6\n",
    "Jy_list[2] = a ** 4 / 18 * sqrt1n ** 1.5\n",
    "Jy_list[3] = (x_cm - 0.5 * B) ** 2 * B * d\n",
    "Jy_list[4] = 2 * (x_cm - 0.5 * b) ** 2 * a * b\n",
    "Jy_list[5] = a ** 2 *(x_cm - b - a * sqrt1n / 3) ** 2 * sqrt1n\n",
    "\n",
    "Jy = 0\n",
    "for item in Jy_list:\n",
    "    Jy += item\n",
    "print(\"Jy =\", Jy)\n",
    "\n",
    "W_A = Jy / x_cm\n",
    "W_B = Jy / x_B\n",
    "\n",
    "print(\"W_A =\", W_A)\n",
    "print(\"W_B =\", W_B)"
   ]
  },
  {
   "cell_type": "markdown",
   "metadata": {},
   "source": [
    "## Loads"
   ]
  },
  {
   "cell_type": "code",
   "execution_count": 4,
   "metadata": {},
   "outputs": [
    {
     "name": "stdout",
     "output_type": "stream",
     "text": [
      "in kilograms and kilograms * meters\n",
      "# | G | M\n",
      "1 | 13800000.0 | -3858569.8308682158\n",
      "2 | 3783022.9881682917 | -37510187.9270014\n",
      "3 | 312666.7636363636 | -96518384.46344931\n",
      "4 | 490000.0 | -3893673.8563134368\n",
      "5 | -114724.24557752337 | -199846.43509067228\n",
      "6 | -104935.44957580288 | -47576.96991507821\n"
     ]
    }
   ],
   "source": [
    "#own weight\n",
    "\n",
    "print(\"in kilograms and kilograms * meters\")\n",
    "print(\"# | G | M\")\n",
    "\n",
    "G1 = 0.5 * dens_c * B * Ht * d\n",
    "M1 = dens_c * Ht * B * d * (B - 3 * x_cm + n * Ht) / 6\n",
    "print(\"1\", G1, M1, sep=\" | \")\n",
    "\n",
    "G2 = dens_c * Ht * (a * sqrt1n + 2 * b) * a\n",
    "M2 = -dens_c * Ht * a * (b * (2 * x_cm - b - n * Ht) + a * sqrt1n * (x_cm - b - n * Ht / 2 - a / 3 * sqrt1n))\n",
    "print(\"2\", G2, M2, sep=\" | \")\n",
    "\n",
    "G3 = dens_c * Bc * D * dc\n",
    "M3 = -G3 * (x_cm * n * Ht - ec)\n",
    "print(\"3\", G3, M3, sep=\" | \")\n",
    "\n",
    "a1 = (0.5 * Bc - ec)\n",
    "G4 = 0.5 * dens_c * D * a1 ** 2 / n\n",
    "M4 = -G4 * (x_cm - n * Ht + 2 * a1 / 3)\n",
    "print(\"4\", G4, M4, sep=\" | \")\n",
    "\n",
    "a2 = (0.5 * Bc - ec)\n",
    "G5 = -0.5 * dens_c * n * D * a2 ** 2 / m ** 2\n",
    "M5 = G5 * (x_cm - b - n * Ht + 2 * n * a2 / 3 / m)\n",
    "print(\"5\", G5, M5, sep=\" | \")\n",
    "\n",
    "a_star = a2 * (b + a * sqrt1n) * sqrt1n / m / b\n",
    "b_star = x_cm - b - n * Ht - a * sqrt1n\n",
    "n1 = (1 - n * m) / (n + m)\n",
    "G6 = -dens_c * a ** 2 * (a_star - 2 * a * (1 + n ** 2) * Ht / 3 / B)\n",
    "M6_1 = a_star * (b_star + n * a / 2 + 2 * a / 3 / sqrt1n)\n",
    "M6_2_2 = n * (2 + n ** 2) / sqrt1n + n1 * (2 - n ** 2) / (sqrt(1 + n1 ** 2))\n",
    "M6_2 = -2/3 * a *(n * n1 * a_star + (n + n1) * b_star + 3 / 8 * M6_2_2 * a)\n",
    "M6 = dens_c * a ** 2 * (M6_1 + M6_2)\n",
    "print(\"6\", G6, M6, sep=\" | \")"
   ]
  },
  {
   "cell_type": "code",
   "execution_count": 5,
   "metadata": {},
   "outputs": [
    {
     "name": "stdout",
     "output_type": "stream",
     "text": [
      "Upper beef: \n",
      "W | M\n",
      "12500000.0 | 208333333.33333334\n",
      "3750000.0 | -58548524.410562016\n",
      "Lower beef: \n",
      "W | M\n",
      "-259200.00000000017 | -622080.0000000007\n",
      "41472.00000000002 | -2450774.7828387143\n"
     ]
    }
   ],
   "source": [
    "#water pressure\n",
    "\n",
    "print(\"Upper beef: \")\n",
    "print(\"W | M\")\n",
    "#upper horizontal\n",
    "H1 = Ht\n",
    "W_uphor = 0.5 * dens_w * H1 ** 2 * D\n",
    "M_uphor = dens_w * H1 ** 3 * D / 6\n",
    "print(W_uphor, M_uphor, sep=\" | \")\n",
    "\n",
    "#upper vertical\n",
    "W_upvert = n * W_uphor\n",
    "M_upvert = - dens_w * n * D * H1 ** 2 * (3 * x_cm - n * H1) / 6\n",
    "print(W_upvert, M_upvert, sep=\" | \")\n",
    "\n",
    "print(\"Lower beef: \")\n",
    "print(\"W | M\")\n",
    "#lower horizontal\n",
    "W_lowhor = -0.5 * dens_w * H2 ** 2 * D\n",
    "M_lowhor = W_lowhor * H2 / 3\n",
    "print(W_lowhor, M_lowhor, sep=\" | \")\n",
    "\n",
    "#lower vertical\n",
    "W_lowvert = (n - B * d / Ht / D) * W_lowhor\n",
    "M_lowvert_1 = 2 * n * a * (x_cm - b - a / 2 - n * H2 / 3)\n",
    "M_lowvert_2 = m * (x_B - m * H2 / 3) * d\n",
    "M_lowvert = (M_lowvert_1 + M_lowvert_2) * W_lowhor / D\n",
    "print(W_lowvert, M_lowvert, sep=\" | \")"
   ]
  },
  {
   "cell_type": "code",
   "execution_count": 6,
   "metadata": {},
   "outputs": [
    {
     "name": "stdout",
     "output_type": "stream",
     "text": [
      "# | U | M\n",
      "1 | -1881000.0000000007 | 0\n",
      "2 | -3210000.0 | 54130036.895441085\n"
     ]
    }
   ],
   "source": [
    "#filtering pressure\n",
    "\n",
    "U1 = -dens_w * H2 * (D * b + a * (D + d) / 2 + (B - b - a) * d)\n",
    "M_U1 = 0\n",
    "U2 = -dens_w * (H1 - H2) * (b + a) * D\n",
    "M_U2 = -U2 * (x_cm - (b + a) / 2)\n",
    "\n",
    "print(\"# | U | M\")\n",
    "print(\"1\", U1, M_U1, sep=\" | \")\n",
    "print(\"2\", U2, M_U2, sep=\" | \")"
   ]
  },
  {
   "cell_type": "code",
   "execution_count": 7,
   "metadata": {},
   "outputs": [
    {
     "name": "stdout",
     "output_type": "stream",
     "text": [
      "W | M\n",
      "horizontal part\n",
      "425250.0 | 1275750.0\n",
      "vertical part\n",
      "127575.0 | -2514878.30044732\n"
     ]
    }
   ],
   "source": [
    "#alluvium pressure\n",
    "\n",
    "W_alluhor = 0.5 * dens_allu * H_allu ** 2 * D\n",
    "M_alluhor = W_alluhor * H_allu / 3\n",
    "\n",
    "W_alluvert = 0.5 * dens_allu * n * H_allu ** 2 * D\n",
    "M_alluvert = -W_alluvert *  (x_cm - n * H_allu / 3)\n",
    "\n",
    "print(\"W | M\")\n",
    "print(\"horizontal part\")\n",
    "print(W_alluhor, M_alluhor, sep=\" | \")\n",
    "print(\"vertical part\")\n",
    "print(W_alluvert, M_alluvert, sep=\" | \")"
   ]
  },
  {
   "cell_type": "code",
   "execution_count": 8,
   "metadata": {},
   "outputs": [
    {
     "name": "stdout",
     "output_type": "stream",
     "text": [
      "wave pressure:\n",
      "horizontal part\n",
      "W | M\n",
      "12804.838452968328 | 626148.8558990735\n",
      "vertical part:\n",
      "W\n",
      "3841.4515358904982\n",
      "\n",
      "ice pressure: W | M\n",
      "10000 | 495500.0\n"
     ]
    }
   ],
   "source": [
    "#wave pressure\n",
    "\n",
    "W_wavhor = dens_w * hw * (Lw / const_pi + hw / 2) * D / 2\n",
    "M_wavhor = W_wavhor * (H1 - Lw / 2 / const_pi + 3 * hw / 8)\n",
    "\n",
    "W_wavvert = W_wavhor * n\n",
    "\n",
    "print(\"wave pressure:\")\n",
    "print(\"horizontal part\")\n",
    "print(\"W | M\")\n",
    "print(W_wavhor, M_wavhor, sep=\" | \")\n",
    "print(\"vertical part:\")\n",
    "print(\"W\")\n",
    "print(W_wavvert)\n",
    "print()\n",
    "\n",
    "#ice pressure\n",
    "\n",
    "M_ice = W_ice * (H1 - 0.45 * h_ice)\n",
    "print(\"ice pressure: W | M\")\n",
    "print(W_ice, M_ice, sep=\" | \")"
   ]
  },
  {
   "cell_type": "code",
   "execution_count": 9,
   "metadata": {},
   "outputs": [
    {
     "name": "stdout",
     "output_type": "stream",
     "text": [
      "N = 16997918.50818722 kg\n",
      "Qsummer = | 12678854.838452969 | Qwinter = | 12676050.0 | kg\n",
      "Msummer = | 58200772.108187325 | Mwinter = | 58070123.25228825 | kg * m\n"
     ]
    }
   ],
   "source": [
    "#summary\n",
    "\n",
    "N = G1 + G2 + G3 + G4 + G5 + G6 + W_upvert + W_lowvert + U1 + U2 + W_wavvert + W_alluvert\n",
    "Qsummer = W_uphor + W_lowhor + W_alluhor + W_wavhor\n",
    "Qwinter = W_uphor + W_lowhor + W_alluhor + W_ice\n",
    "Msummer = M1 + M2 + M3 + M4 + M5 + M6 + M_uphor + M_lowhor + M_upvert + M_lowvert + M_U2 + M_alluhor + M_alluvert + M_wavhor\n",
    "Mwinter = M1 + M2 + M3 + M4 + M5 + M6 + M_uphor + M_lowhor + M_upvert + M_lowvert + M_U2 + M_alluhor + M_alluvert + M_ice\n",
    "\n",
    "print(\"N =\", N, \"kg\")\n",
    "print(\"Qsummer =\", Qsummer, \"Qwinter =\", Qwinter, \"kg\", sep=\" | \")\n",
    "print(\"Msummer =\", Msummer, \"Mwinter =\", Mwinter, \"kg * m\", sep=\" | \")"
   ]
  },
  {
   "cell_type": "markdown",
   "metadata": {},
   "source": [
    "## Optimal profile"
   ]
  },
  {
   "cell_type": "code",
   "execution_count": 10,
   "metadata": {},
   "outputs": [
    {
     "name": "stdout",
     "output_type": "stream",
     "text": [
      "-432699407.1274881\n"
     ]
    }
   ],
   "source": [
    "sigma_a = 0.1 #MPa\n",
    "\n",
    "print( sigma_a * B ** 2 - N * B + 6 * Msummer )"
   ]
  },
  {
   "cell_type": "code",
   "execution_count": null,
   "metadata": {},
   "outputs": [],
   "source": []
  }
 ],
 "metadata": {
  "kernelspec": {
   "display_name": "Python 3",
   "language": "python",
   "name": "python3"
  },
  "language_info": {
   "codemirror_mode": {
    "name": "ipython",
    "version": 3
   },
   "file_extension": ".py",
   "mimetype": "text/x-python",
   "name": "python",
   "nbconvert_exporter": "python",
   "pygments_lexer": "ipython3",
   "version": "3.6.5"
  }
 },
 "nbformat": 4,
 "nbformat_minor": 2
}
