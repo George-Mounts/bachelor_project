{
 "cells": [
  {
   "cell_type": "code",
   "execution_count": 1,
   "metadata": {},
   "outputs": [],
   "source": [
    "from math import sqrt"
   ]
  },
  {
   "cell_type": "markdown",
   "metadata": {},
   "source": [
    "## Initial Data"
   ]
  },
  {
   "cell_type": "code",
   "execution_count": 59,
   "metadata": {},
   "outputs": [
    {
     "name": "stdout",
     "output_type": "stream",
     "text": [
      "in meters:\n",
      "Dam height (Ht) = 50\n",
      "Dam foot width (B) = 46\n",
      "(Nakat?) dhw = 0.2284727272727273\n",
      "Height above reservoir level (dc) = 1.6284727272727273\n",
      "m = 0.6200000000000001\n",
      "Lower beef depth (H2) = 7.200000000000003\n"
     ]
    }
   ],
   "source": [
    "#constant\n",
    "const_pi = 3.1415\n",
    "\n",
    "#dam profile\n",
    "B = 46\n",
    "n = 0.3  #0.1 - 0.5\n",
    "Ht = 50 #height of triangle profile\n",
    "H2 = 105.2 - 98 # = 7.2 meters\n",
    "\n",
    "#section profile\n",
    "b = 5 #meters\n",
    "D = 10 #meters\n",
    "d = 5 #meters\n",
    "\n",
    "#coast:\n",
    "Bc = 8 #meters\n",
    "\n",
    "#reservoir\n",
    "hw = 0.8 #meters\n",
    "W_ice = 10000 #in kg / m\n",
    "h_ice = 1 #in meters\n",
    "H_allu = 9 #in meters - Alluvium layer thickness\n",
    "\n",
    "#density\n",
    "dens_c = 2400 #kg / m**3 - Concrete\n",
    "dens_w = 1000 #kg / m ** 3 - Water\n",
    "dens_allu = 1050 #in kg / m ** 3 - Alluvium\n",
    "\n",
    "#criteria\n",
    "#sigma_a = 0.1 #MPa\n",
    "sigma_a = 10000 #kg / m**2\n",
    "\n",
    "#secondary data\n",
    "Lw = 11 * hw #in meters\n",
    "dhw = const_pi * hw ** 2 / Lw #in meters\n",
    "m = B / Ht - n\n",
    "dc = hw + dhw + 0.6 #meters\n",
    "ec = 0.5 #meters\n",
    "\n",
    "print(\"in meters:\")\n",
    "print(\"Dam height (Ht) =\", Ht)\n",
    "print(\"Dam foot width (B) =\", B)\n",
    "print(\"(Nakat?) dhw =\",dhw)\n",
    "print(\"Height above reservoir level (dc) =\", dc)\n",
    "print(\"m =\", m)\n",
    "print(\"Lower beef depth (H2) =\", H2)"
   ]
  },
  {
   "cell_type": "markdown",
   "metadata": {},
   "source": [
    "## In one function"
   ]
  },
  {
   "cell_type": "code",
   "execution_count": 72,
   "metadata": {},
   "outputs": [],
   "source": [
    "def secondary_data():\n",
    "    Lw = 11 * hw #in meters\n",
    "    dhw = const_pi * hw ** 2 / Lw #in meters\n",
    "    m = B / Ht - n\n",
    "    dc = hw + dhw + 0.6 #meters\n",
    "    ec = 0.5 #meters\n",
    "\n",
    "def static_calculation(*, show_winter=False, output, print_all=True):\n",
    "    \n",
    "    #geometrical characteristics\n",
    "\n",
    "    sqrt1n = sqrt(1 + n ** 2)\n",
    "    a = (D - d) / 2\n",
    "\n",
    "    F = B * d + a * (2 * b + a * sqrt1n)\n",
    "    #print(\"Area (F) =\", F)\n",
    "\n",
    "    x_cm = (0.5 * B ** 2 * d + a * b ** 2 + a ** 2 * (b + a * sqrt1n / 3) * sqrt1n) / F\n",
    "    #print(\"x_A (x_cm) =\", x_cm)\n",
    "    x_B = B - x_cm\n",
    "    #print(\"x_B =\", x_B)\n",
    "\n",
    "    Jy_list = [0, 0, 0, 0, 0, 0]\n",
    "    Jy_list[0] = B ** 3 * d / 12\n",
    "    Jy_list[1] = a * b ** 3 / 6\n",
    "    Jy_list[2] = a ** 4 / 18 * sqrt1n ** 1.5\n",
    "    Jy_list[3] = (x_cm - 0.5 * B) ** 2 * B * d\n",
    "    Jy_list[4] = 2 * (x_cm - 0.5 * b) ** 2 * a * b\n",
    "    Jy_list[5] = a ** 2 *(x_cm - b - a * sqrt1n / 3) ** 2 * sqrt1n\n",
    "\n",
    "    Jy = 0\n",
    "    for item in Jy_list:\n",
    "        Jy += item\n",
    "    #print(\"Jy =\", Jy)\n",
    "\n",
    "    W_A = Jy / x_cm\n",
    "    W_B = Jy / x_B\n",
    "\n",
    "    #print(\"W_A =\", W_A)\n",
    "    #print(\"W_B =\", W_B)\n",
    "\n",
    "    #LOADS\n",
    "    #own weight\n",
    "\n",
    "    #print(\"in kilograms and kilograms * meters\")\n",
    "    #print(\"# | G | M\")\n",
    "\n",
    "    G1 = 0.5 * dens_c * B * Ht * d\n",
    "    M1 = dens_c * Ht * B * d * (B - 3 * x_cm + n * Ht) / 6\n",
    "    #print(\"1\", G1, M1, sep=\" | \")\n",
    "\n",
    "    G2 = dens_c * Ht * (a * sqrt1n + 2 * b) * a\n",
    "    M2 = -dens_c * Ht * a * (b * (2 * x_cm - b - n * Ht) + a * sqrt1n * (x_cm - b - n * Ht / 2 - a / 3 * sqrt1n))\n",
    "    #print(\"2\", G2, M2, sep=\" | \")\n",
    "\n",
    "    G3 = dens_c * Bc * D * dc\n",
    "    M3 = -G3 * (x_cm * n * Ht - ec)\n",
    "    #print(\"3\", G3, M3, sep=\" | \")\n",
    "\n",
    "    a1 = (0.5 * Bc - ec)\n",
    "    G4 = 0.5 * dens_c * D * a1 ** 2 / n\n",
    "    M4 = -G4 * (x_cm - n * Ht + 2 * a1 / 3)\n",
    "    #print(\"4\", G4, M4, sep=\" | \")\n",
    "\n",
    "    a2 = (0.5 * Bc - ec)\n",
    "    G5 = -0.5 * dens_c * n * D * a2 ** 2 / m ** 2\n",
    "    M5 = G5 * (x_cm - b - n * Ht + 2 * n * a2 / 3 / m)\n",
    "    #print(\"5\", G5, M5, sep=\" | \")\n",
    "\n",
    "    a_star = a2 * (b + a * sqrt1n) * sqrt1n / m / b\n",
    "    b_star = x_cm - b - n * Ht - a * sqrt1n\n",
    "    n1 = (1 - n * m) / (n + m)\n",
    "    G6 = -dens_c * a ** 2 * (a_star - 2 * a * (1 + n ** 2) * Ht / 3 / B)\n",
    "    M6_1 = a_star * (b_star + n * a / 2 + 2 * a / 3 / sqrt1n)\n",
    "    M6_2_2 = n * (2 + n ** 2) / sqrt1n + n1 * (2 - n ** 2) / (sqrt(1 + n1 ** 2))\n",
    "    M6_2 = -2/3 * a *(n * n1 * a_star + (n + n1) * b_star + 3 / 8 * M6_2_2 * a)\n",
    "    M6 = dens_c * a ** 2 * (M6_1 + M6_2)\n",
    "    #print(\"6\", G6, M6, sep=\" | \")\n",
    "\n",
    "    #water pressure\n",
    "\n",
    "    #print(\"Upper beef: \")\n",
    "    #print(\"W | M\")\n",
    "    #upper horizontal\n",
    "    H1 = Ht\n",
    "    W_uphor = 0.5 * dens_w * H1 ** 2 * D\n",
    "    M_uphor = dens_w * H1 ** 3 * D / 6\n",
    "    #print(W_uphor, M_uphor, sep=\" | \")\n",
    "\n",
    "    #upper vertical\n",
    "    W_upvert = n * W_uphor\n",
    "    M_upvert = - dens_w * n * D * H1 ** 2 * (3 * x_cm - n * H1) / 6\n",
    "    #print(W_upvert, M_upvert, sep=\" | \")\n",
    "\n",
    "    #print(\"Lower beef: \")\n",
    "    #print(\"W | M\")\n",
    "    #lower horizontal\n",
    "    W_lowhor = -0.5 * dens_w * H2 ** 2 * D\n",
    "    M_lowhor = W_lowhor * H2 / 3\n",
    "    #print(W_lowhor, M_lowhor, sep=\" | \")\n",
    "\n",
    "    #lower vertical\n",
    "    W_lowvert = (n - B * d / Ht / D) * W_lowhor\n",
    "    M_lowvert_1 = 2 * n * a * (x_cm - b - a / 2 - n * H2 / 3)\n",
    "    M_lowvert_2 = m * (x_B - m * H2 / 3) * d\n",
    "    M_lowvert = (M_lowvert_1 + M_lowvert_2) * W_lowhor / D\n",
    "    #print(W_lowvert, M_lowvert, sep=\" | \")\n",
    "\n",
    "    #filtering pressure\n",
    "\n",
    "    U1 = -dens_w * H2 * (D * b + a * (D + d) / 2 + (B - b - a) * d)\n",
    "    M_U1 = 0\n",
    "    U2 = -dens_w * (H1 - H2) * (b + a) * D\n",
    "    M_U2 = -U2 * (x_cm - (b + a) / 2)\n",
    "\n",
    "    #print(\"# | U | M\")\n",
    "    #print(\"1\", U1, M_U1, sep=\" | \")\n",
    "    #print(\"2\", U2, M_U2, sep=\" | \")\n",
    "\n",
    "    #alluvium pressure\n",
    "\n",
    "    W_alluhor = 0.5 * dens_allu * H_allu ** 2 * D\n",
    "    M_alluhor = W_alluhor * H_allu / 3\n",
    "\n",
    "    W_alluvert = 0.5 * dens_allu * n * H_allu ** 2 * D\n",
    "    M_alluvert = -W_alluvert *  (x_cm - n * H_allu / 3)\n",
    "\n",
    "    #print(\"W | M\")\n",
    "    #print(\"horizontal part\")\n",
    "    #print(W_alluhor, M_alluhor, sep=\" | \")\n",
    "    #print(\"vertical part\")\n",
    "    #print(W_alluvert, M_alluvert, sep=\" | \")\n",
    "\n",
    "    #wave pressure\n",
    "\n",
    "    W_wavhor = dens_w * hw * (Lw / const_pi + hw / 2) * D / 2\n",
    "    M_wavhor = W_wavhor * (H1 - Lw / 2 / const_pi + 3 * hw / 8)\n",
    "\n",
    "    W_wavvert = W_wavhor * n\n",
    "\n",
    "    #print(\"wave pressure:\")\n",
    "    #print(\"horizontal part\")\n",
    "    #print(\"W | M\")\n",
    "    #print(W_wavhor, M_wavhor, sep=\" | \")\n",
    "    #print(\"vertical part:\")\n",
    "    #print(\"W\")\n",
    "    #print(W_wavvert)\n",
    "    #print()\n",
    "\n",
    "    #ice pressure\n",
    "\n",
    "    M_ice = W_ice * (H1 - 0.45 * h_ice)\n",
    "    #print(\"ice pressure: W | M\")\n",
    "    #print(W_ice, M_ice, sep=\" | \")\n",
    "    #print()\n",
    "\n",
    "    #summary\n",
    "\n",
    "    N = G1 + G2 + G3 + G4 + G5 + G6 + W_upvert + W_lowvert + U1 + U2 + W_wavvert + W_alluvert\n",
    "    Qsummer = W_uphor + W_lowhor + W_alluhor + W_wavhor\n",
    "    Qwinter = W_uphor + W_lowhor + W_alluhor + W_ice\n",
    "    Msummer = M1 + M2 + M3 + M4 + M5 + M6 + M_uphor + M_lowhor + M_upvert + M_lowvert + M_U2 + M_alluhor + M_alluvert + M_wavhor\n",
    "    Mwinter = M1 + M2 + M3 + M4 + M5 + M6 + M_uphor + M_lowhor + M_upvert + M_lowvert + M_U2 + M_alluhor + M_alluvert + M_ice\n",
    "\n",
    "    #stretching stress criteria\n",
    "    stretch = sigma_a * B ** 2 - N * B + 6 * Msummer\n",
    "    \n",
    "    if print_all == True:\n",
    "        print(\"B =\", B, end=\", \")\n",
    "        print(\"Ht =\", Ht, end=\", \")\n",
    "        print(\"n =\", n)\n",
    "        print(\"N =\", N, \"kg\")\n",
    "        print(\"Qsummer =\", Qsummer, \"kg\", \"Msummer =\" , Msummer, \"kg * m\", sep=\" | \")\n",
    "        if show_winter == True:\n",
    "            print(\"Qwinter =\", Qwinter, \"kg\", \"Mwinter =\" , Mwinter, \"kg * m\", sep=\" | \")\n",
    "        print()\n",
    "        print(\"Stretching stress criteria (must be close to 0) =\", stretch)\n",
    "        \n",
    "    if output == \"Msummer\":\n",
    "        return Msummer\n",
    "    if output == \"Qsummer\":\n",
    "        return Qsummer\n",
    "    if output == \"N\":\n",
    "        return N\n",
    "    if output == \"stretch\":\n",
    "        return stretch"
   ]
  },
  {
   "cell_type": "markdown",
   "metadata": {},
   "source": [
    "## Optimal profile"
   ]
  },
  {
   "cell_type": "code",
   "execution_count": null,
   "metadata": {},
   "outputs": [],
   "source": [
    "import matplotlib.pyplot as plt\n",
    "%matplotlib inline"
   ]
  },
  {
   "cell_type": "code",
   "execution_count": 11,
   "metadata": {},
   "outputs": [
    {
     "name": "stdout",
     "output_type": "stream",
     "text": [
      "B = 46, Ht = 50, n = 0.3\n",
      "N = 16997918.50818722 kg\n",
      "Qsummer = | 12678854.838452969 | kg | Msummer = | 58200772.108187325 | kg * m\n",
      "\n",
      "Stretching stress criteria (must be 0) = -221099618.7274881\n"
     ]
    },
    {
     "data": {
      "text/plain": [
       "58200772.108187325"
      ]
     },
     "execution_count": 11,
     "metadata": {},
     "output_type": "execute_result"
    }
   ],
   "source": [
    "B = 46\n",
    "n = 0.3\n",
    "Ht = 50\n",
    "secondary_data()\n",
    "static_calculation(show_winter=False, output=\"Msummer\")"
   ]
  },
  {
   "cell_type": "code",
   "execution_count": 74,
   "metadata": {},
   "outputs": [
    {
     "data": {
      "image/png": "[encoded data removed]",
      "text/plain": [
       "<Figure size 432x288 with 1 Axes>"
      ]
     },
     "metadata": {
      "needs_background": "light"
     },
     "output_type": "display_data"
    }
   ],
   "source": [
    "B = 46\n",
    "n = 0.1\n",
    "stretch_list = []\n",
    "B_list = []\n",
    "\n",
    "B = 30\n",
    "\n",
    "for i in range(20):\n",
    "    secondary_data()\n",
    "    B_list.append(B)\n",
    "    stretch_list.append(static_calculation(show_winter=False, output=\"stretch\", print_all=False))\n",
    "    B += 1\n",
    "\n",
    "fig, ax = plt.subplots()\n",
    "ax.plot(stretch_list, B_list)\n",
    "#ax.ticklabel_format(style = 'plain')\n",
    "\n",
    "ax.set(xlabel='Stretching Stress Criteria', ylabel='B (meters)',\n",
    "       title='Stretching Stress Criteria (B), n ='+str(n))\n",
    "ax.grid()\n",
    "\n",
    "#fig.savefig(\"test.png\")\n",
    "plt.show()\n",
    "\n",
    "#for i in range(len(B_list)):\n",
    "    #print(stretch_list[i], B_list[i], sep=\" | \")"
   ]
  },
  {
   "cell_type": "code",
   "execution_count": 70,
   "metadata": {},
   "outputs": [
    {
     "data": {
      "image/png": "[encoded data removed]",
      "text/plain": [
       "<Figure size 432x288 with 1 Axes>"
      ]
     },
     "metadata": {
      "needs_background": "light"
     },
     "output_type": "display_data"
    }
   ],
   "source": [
    "B = 41\n",
    "n = 0.3\n",
    "stretch_list = []\n",
    "n_list = []\n",
    "\n",
    "n = 0.05\n",
    "for i in range(50):\n",
    "    secondary_data()\n",
    "    n_list.append(n)\n",
    "    stretch_list.append(static_calculation(show_winter=False, output=\"stretch\", print_all=False))\n",
    "    n += 0.01\n",
    "\n",
    "fig, ax = plt.subplots()\n",
    "ax.plot(stretch_list, n_list)\n",
    "#ax.ticklabel_format(style = 'plain')\n",
    "\n",
    "ax.set(xlabel='Stretching Stress Criteria', ylabel='n',\n",
    "       title='Stretching Stress Criteria (n), B = '+str(B))\n",
    "ax.grid()\n",
    "\n",
    "#fig.savefig(\"test.png\")\n",
    "plt.show()"
   ]
  },
  {
   "cell_type": "markdown",
   "metadata": {},
   "source": [
    "## B = 41 m\n",
    "## n = 0.2"
   ]
  },
  {
   "cell_type": "code",
   "execution_count": 73,
   "metadata": {},
   "outputs": [
    {
     "name": "stdout",
     "output_type": "stream",
     "text": [
      "B = 41, Ht = 50, n = 0.2\n",
      "N = 14668400.524259314 kg\n",
      "Qsummer = | 12678854.838452969 | kg | Msummer = | 98246745.80240181 | kg * m\n",
      "Qwinter = | 12676050.0 | kg | Mwinter = | 98116096.94650273 | kg * m\n",
      "\n",
      "Stretching stress criteria (must be close to 0) = 4886053.319779038\n"
     ]
    }
   ],
   "source": [
    "B = 41\n",
    "n = 0.2\n",
    "secondary_data()\n",
    "static_calculation(show_winter=True, output=None, print_all=True)"
   ]
  },
  {
   "cell_type": "code",
   "execution_count": null,
   "metadata": {},
   "outputs": [],
   "source": []
  }
 ],
 "metadata": {
  "kernelspec": {
   "display_name": "Python 3",
   "language": "python",
   "name": "python3"
  },
  "language_info": {
   "codemirror_mode": {
    "name": "ipython",
    "version": 3
   },
   "file_extension": ".py",
   "mimetype": "text/x-python",
   "name": "python",
   "nbconvert_exporter": "python",
   "pygments_lexer": "ipython3",
   "version": "3.6.5"
  }
 },
 "nbformat": 4,
 "nbformat_minor": 2
}
