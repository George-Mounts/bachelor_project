{
 "cells": [
  {
   "cell_type": "code",
   "execution_count": 1,
   "metadata": {},
   "outputs": [],
   "source": [
    "from math import sqrt, fabs"
   ]
  },
  {
   "cell_type": "markdown",
   "metadata": {},
   "source": [
    "## Initial Data"
   ]
  },
  {
   "cell_type": "code",
   "execution_count": 2,
   "metadata": {},
   "outputs": [
    {
     "name": "stdout",
     "output_type": "stream",
     "text": [
      "in meters:\n",
      "Dam height (Ht) = 50\n",
      "Dam foot width (B) = 46\n",
      "(Nakat?) dhw = 0.2284727272727273\n",
      "Height above reservoir level (dc) = 1.6284727272727273\n",
      "m = 0.6200000000000001\n",
      "Lower beef depth (H2) = 7.200000000000003\n"
     ]
    }
   ],
   "source": [
    "#constant\n",
    "const_pi = 3.1415\n",
    "\n",
    "#dam profile\n",
    "B = 46\n",
    "n = 0.3  #0.1 - 0.5\n",
    "Ht = 50 #height of triangle profile\n",
    "H2 = 105.2 - 98 # = 7.2 meters\n",
    "\n",
    "#section profile\n",
    "b = 5 #meters\n",
    "D = 10 #meters\n",
    "d = 5 #meters\n",
    "\n",
    "#coast:\n",
    "Bc = 8 #meters\n",
    "\n",
    "#reservoir\n",
    "hw = 0.8 #meters\n",
    "W_ice = 10 #in tons / m\n",
    "h_ice = 1 #in meters\n",
    "H_allu = 24 #in meters - Alluvium layer thickness\n",
    "\n",
    "#density\n",
    "dens_c = 2.4 #tons / m ** 3 - Concrete\n",
    "dens_w = 1 #ton / m ** 3 - Water\n",
    "dens_allu = 1.05 #tons / m ** 3 - Alluvium\n",
    "\n",
    "#criteria\n",
    "#sigma_a = 0.1 #MPa\n",
    "#sigma_a = 100000 #Pa = N/m**2\n",
    "#sigma_a = 100 #kN / m**2\n",
    "sigma_a = 1000 #tons / m**2\n",
    "\n",
    "#secondary data\n",
    "Lw = 11 * hw #in meters\n",
    "dhw = const_pi * hw ** 2 / Lw #in meters\n",
    "m = B / Ht - n\n",
    "dc = hw + dhw + 0.6 #meters\n",
    "ec = 1 #meters\n",
    "\n",
    "print(\"in meters:\")\n",
    "print(\"Dam height (Ht) =\", Ht)\n",
    "print(\"Dam foot width (B) =\", B)\n",
    "print(\"(Nakat?) dhw =\",dhw)\n",
    "print(\"Height above reservoir level (dc) =\", dc)\n",
    "print(\"m =\", m)\n",
    "print(\"Lower beef depth (H2) =\", H2)"
   ]
  },
  {
   "cell_type": "markdown",
   "metadata": {},
   "source": [
    "## Functions"
   ]
  },
  {
   "cell_type": "code",
   "execution_count": 3,
   "metadata": {},
   "outputs": [],
   "source": [
    "def secondary_data(detailed=False):\n",
    "    Lw = 11 * hw #in meters\n",
    "    dhw = const_pi * hw ** 2 / Lw #in meters\n",
    "    m = B / Ht - n\n",
    "    dc = hw + dhw + 0.6 #meters\n",
    "    #ec = 0.5 #meters\n",
    "    if detailed == True:\n",
    "        print(\"Dam coast height =\", dc)\n",
    "        print(\"m =\", m)\n",
    "\n",
    "def static_calculation(*, show_winter=False, output, print_all=True, detailed=False):\n",
    "    \n",
    "    #geometrical characteristics\n",
    "\n",
    "    sqrt1n = sqrt(1 + n ** 2)\n",
    "    a = (D - d) / 2\n",
    "\n",
    "    F = B * d + a * (2 * b + a * sqrt1n)\n",
    "    #print(\"Area (F) =\", F)\n",
    "\n",
    "    x_cm = (0.5 * B ** 2 * d + a * b ** 2 + a ** 2 * (b + a * sqrt1n / 3) * sqrt1n) / F\n",
    "    #print(\"x_A (x_cm) =\", x_cm)\n",
    "    x_B = B - x_cm\n",
    "    #print(\"x_B =\", x_B)\n",
    "\n",
    "    Jy_list = [0, 0, 0, 0, 0, 0]\n",
    "    Jy_list[0] = B ** 3 * d / 12\n",
    "    Jy_list[1] = a * b ** 3 / 6\n",
    "    Jy_list[2] = a ** 4 / 18 * sqrt1n ** 1.5\n",
    "    Jy_list[3] = (x_cm - 0.5 * B) ** 2 * B * d\n",
    "    Jy_list[4] = 2 * (x_cm - 0.5 * b) ** 2 * a * b\n",
    "    Jy_list[5] = a ** 2 *(x_cm - b - a * sqrt1n / 3) ** 2 * sqrt1n\n",
    "\n",
    "    Jy = 0\n",
    "    for item in Jy_list:\n",
    "        Jy += item\n",
    "    #print(\"Jy =\", Jy)\n",
    "\n",
    "    W_A = Jy / x_cm\n",
    "    W_B = Jy / x_B\n",
    "\n",
    "    #print(\"W_A =\", W_A)\n",
    "    #print(\"W_B =\", W_B)\n",
    "\n",
    "    #Loads\n",
    "    #own weight\n",
    "\n",
    "    G1 = G1 = 0.5 * dens_c * B * Ht * d\n",
    "    M1 = dens_c * Ht * B * d * (B - 3 * x_cm + n * Ht) / 6\n",
    "\n",
    "    G2 = dens_c * Ht * (a * sqrt1n + 2 * b) * a\n",
    "    M2_1 = (2*a + 4*b) * x_cm / 2\n",
    "    M2_2 = b + n * Ht\n",
    "    M2_3 = a * (2 * a + 6 * b + 3 * n * Ht) / 6\n",
    "    M2 = dens_c * Ht * a * (M2_1 - M2_2 - M2_3)\n",
    "\n",
    "    G3 = dens_c * Bc * D * dc\n",
    "    M3 = G3 * (x_cm - n * Ht - ec)\n",
    "\n",
    "    a1 = (0.5 * Bc - ec)\n",
    "    G4 = 0.5 * dens_c * D * a1 ** 2 / n\n",
    "    M4 = -G4 * (x_cm - n * Ht + 2 * a1 / 3)\n",
    "\n",
    "    a2 = (0.5 * Bc - ec)\n",
    "    G5 = -0.5 * dens_c * n * D * a2 ** 2 / m ** 2\n",
    "    M5_1 = n * Ht * (1 - 2 * b / (3 * B))\n",
    "    M5 = G5 * (x_cm - b - M5_1)\n",
    "\n",
    "    G6_1 = a ** 2 / (6 * B * (1 + n ** 2))\n",
    "    G6_2 = (n * B + (1-n) * Ht) * (D + 2 * d)\n",
    "    G6_3 = 3 * (1 + n ** 2) * (D + d) * b * Ht / a\n",
    "    G6 = -dens_c * G6_1 * (G6_2 + G6_3)\n",
    "    \n",
    "    M6_1 = a ** 2 * (D + 2 * d) / (6 * (1 + n ** 2) * B ** 2)\n",
    "    M6_1_1 = (x_cm - n * Ht - b) * (n * B + Ht * (1 - n)) * B\n",
    "    M6_1_2 = n * b * Ht ** 2 * (1 - n)\n",
    "    M6_2 = a ** 3 * (D + 3 * d) / (24 * B ** 2 * sqrt1n)\n",
    "    M6_2_1 = n * B ** 2 * (2 + n ** 2)\n",
    "    M6_2_2 = (1-n) * (2*B - n * (1-n) * Ht) * Ht\n",
    "    M6_3 = a * (D+d) * b * Ht / 2 / B\n",
    "    M6_3_1 = x_cm - n * Ht - b\n",
    "    M6_3_2 = 2 * a * (D + 2 * d) * B + 3 * n * (1 + n ** 2) * b * Ht * d\n",
    "    M6_3_3 = 6 * (1+n**2) * B * d\n",
    "    M6 = -dens_c * M6_1 * (M6_1_1 + M6_1_2) + dens_c * M6_2 * (M6_2_1 + M6_2_2) - dens_c * M6_3 * (M6_3_1 - M6_3_2 / M6_3_3)\n",
    "\n",
    "    if detailed == True:\n",
    "        print(\"Own weight:\")\n",
    "        print(\"G =\", end=\" \")\n",
    "        print(G1 + G2 + G3 + G4 + G5 + G6)\n",
    "        print(\"M =\", end=\" \")\n",
    "        print(M1 + M2 + M3 + M4 + M5 + M6)\n",
    "        print()\n",
    "\n",
    "    #water pressure\n",
    "\n",
    "    #upper horizontal\n",
    "    H1 = Ht\n",
    "    W_uphor = 0.5 * dens_w * H1 ** 2 * D\n",
    "    M_uphor = dens_w * H1 ** 3 * D / 6\n",
    "\n",
    "    #upper vertical\n",
    "    W_upvert = n * W_uphor\n",
    "    M_upvert = - dens_w * n * D * H1 ** 2 * (3 * x_cm - n * H1) / 6\n",
    "\n",
    "    #lower horizontal\n",
    "    W_lowhor = -0.5 * dens_w * H2 ** 2 * D\n",
    "    M_lowhor = W_lowhor * H2 / 3\n",
    "\n",
    "    #lower vertical\n",
    "    W_lowvert = (n - B * d / Ht / D) * W_lowhor\n",
    "    M_lowvert_1 = 2 * n * a * (x_cm - b - a / 2 - n * H2 / 3)\n",
    "    M_lowvert_2 = m * (x_B - m * H2 / 3) * d\n",
    "    M_lowvert = (M_lowvert_1 + M_lowvert_2) * W_lowhor / D\n",
    "\n",
    "    #filtering pressure\n",
    "\n",
    "    U1 = -dens_w * H2 * (D * b + a * (D + d) / 2 + (B - b - a) * d)\n",
    "    M_U1 = 0\n",
    "    U2 = -dens_w * (H1 - H2) * (b + a) * D\n",
    "    M_U2 = -U2 * (x_cm - (b + a) / 2)\n",
    "\n",
    "    #alluvium pressure\n",
    "\n",
    "    W_alluhor = 0.5 * dens_allu * H_allu ** 2 * D\n",
    "    M_alluhor = W_alluhor * H_allu / 3\n",
    "\n",
    "    W_alluvert = 0.5 * dens_allu * n * H_allu ** 2 * D\n",
    "    M_alluvert = -W_alluvert *  (x_cm - n * H_allu / 3)\n",
    "\n",
    "    #wave pressure\n",
    "\n",
    "    W_wavhor = dens_w * hw * (Lw / const_pi + hw / 2) * D / 2\n",
    "    M_wavhor = W_wavhor * (H1 - Lw / 2 / const_pi + 3 * hw / 8)\n",
    "\n",
    "    W_wavvert = W_wavhor * n\n",
    "\n",
    "    #ice pressure\n",
    "\n",
    "    M_ice = W_ice * (H1 - 0.45 * h_ice)\n",
    "\n",
    "    #summary\n",
    "\n",
    "    N = G1 + G2 + G3 + G4 + G5 + G6 + W_upvert + W_lowvert + U1 + U2 + W_wavvert + W_alluvert\n",
    "    Qsummer = W_uphor + W_lowhor + W_alluhor + W_wavhor\n",
    "    Qwinter = W_uphor + W_lowhor + W_alluhor + W_ice\n",
    "    Msummer = M1 + M2 + M3 + M4 + M5 + M6 + M_uphor + M_lowhor + M_upvert + M_lowvert + M_U2 + M_alluhor + M_alluvert + M_wavhor\n",
    "    Mwinter = M1 + M2 + M3 + M4 + M5 + M6 + M_uphor + M_lowhor + M_upvert + M_lowvert + M_U2 + M_alluhor + M_alluvert + M_ice\n",
    "\n",
    "    #stretching stress criteria\n",
    "    #stretch = sigma_a * B ** 2 - N * B + 6 * Msummer\n",
    "    stretch = N / F + Msummer / W_A\n",
    "    \n",
    "    #sustainability criteria\n",
    "    sustain = 0.72 * N + 20 * F\n",
    "    sustain2 = Qsummer * 1.2\n",
    "    \n",
    "    if print_all == True:\n",
    "        print(\"B =\", B, end=\", \")\n",
    "        print(\"Ht =\", Ht, end=\", \")\n",
    "        print(\"n =\", n)\n",
    "        print(\"N =\", N, \"tons\")\n",
    "        print(\"Qsummer =\", Qsummer, \"tons\", \"Msummer =\" , Msummer, \"tons * m\", sep=\" | \")\n",
    "        if show_winter == True:\n",
    "            print(\"Qwinter =\", Qwinter, \"tons\", \"Mwinter =\" , Mwinter, \"tons * m\", sep=\" | \")\n",
    "        print()\n",
    "        print(\"Stretching stress criteria (must be more than 10) =\", stretch)\n",
    "        print()\n",
    "        print(\"Sustainability criteria (must be close to 0) =\", sustain - sustain2)\n",
    "        \n",
    "    if output == \"Msummer\":\n",
    "        return Msummer\n",
    "    if output == \"Qsummer\":\n",
    "        return Qsummer\n",
    "    if output == \"N\":\n",
    "        return N\n",
    "    if output == \"stretch\":\n",
    "        return stretch\n",
    "    if output == \"sustain\":\n",
    "        return sustain - sustain2"
   ]
  },
  {
   "cell_type": "markdown",
   "metadata": {},
   "source": [
    "# Finding optimal profile"
   ]
  },
  {
   "cell_type": "code",
   "execution_count": 4,
   "metadata": {},
   "outputs": [],
   "source": [
    "import matplotlib.pyplot as plt\n",
    "%matplotlib inline"
   ]
  },
  {
   "cell_type": "markdown",
   "metadata": {},
   "source": [
    "## Detailed example of calculation"
   ]
  },
  {
   "cell_type": "code",
   "execution_count": 5,
   "metadata": {},
   "outputs": [
    {
     "name": "stdout",
     "output_type": "stream",
     "text": [
      "Dam coast height = 1.6284727272727273\n",
      "m = 0.7\n",
      "Own weight:\n",
      "G = 19100.53099133916\n",
      "M = 53711.77376719731\n",
      "\n",
      "B = 50, Ht = 50, n = 0.3\n",
      "N = 18578.41244287505 tons\n",
      "Qsummer = | 15277.604838452968 | tons | Msummer = | 259792.71332316007 | tons * m\n",
      "Qwinter = | 15274.8 | tons | Mwinter = | 259662.064467261 | tons * m\n",
      "\n",
      "Stretching stress criteria (must be more than 10) = 155.46079167899734\n",
      "\n",
      "Sustainability criteria (must be close to 0) = 673.8349840878545\n"
     ]
    }
   ],
   "source": [
    "B = 50\n",
    "n = 0.3\n",
    "Ht = 50\n",
    "secondary_data(detailed=True)\n",
    "static_calculation(show_winter=True, output=None, detailed=True)"
   ]
  },
  {
   "cell_type": "markdown",
   "metadata": {},
   "source": [
    "## Plotting B"
   ]
  },
  {
   "cell_type": "code",
   "execution_count": 6,
   "metadata": {},
   "outputs": [
    {
     "data": {
      "image/png": "[encoded data removed]",
      "text/plain": [
       "<Figure size 432x288 with 1 Axes>"
      ]
     },
     "metadata": {
      "needs_background": "light"
     },
     "output_type": "display_data"
    },
    {
     "name": "stdout",
     "output_type": "stream",
     "text": [
      "Min stretch stress criteria value (must be greater than 10):\n",
      "130.9\n",
      "\n",
      "Sustainability criteria values: \n",
      "Sustain  | B\n",
      "____________\n",
      "-4246.60 | 30\n",
      "-3944.94 | 31\n",
      "-3643.89 | 32\n",
      "-3343.39 | 33\n",
      "-3043.40 | 34\n",
      "-2743.86 | 35\n",
      "-2444.75 | 36\n",
      "-2146.02 | 37\n",
      "-1847.65 | 38\n",
      "-1549.61 | 39\n",
      "-1251.88 | 40\n",
      "-954.431 | 41\n",
      "-657.240 | 42\n",
      "-360.293 | 43\n",
      "-63.5743 | 44\n",
      "232.9330 | 45\n",
      "529.2420 | 46\n",
      "825.3654 | 47\n",
      "1121.314 | 48\n",
      "1417.100 | 49\n",
      "1712.733 | 50\n",
      "2008.221 | 51\n",
      "2303.572 | 52\n",
      "2598.795 | 53\n",
      "2893.897 | 54\n",
      "3188.884 | 55\n",
      "3483.762 | 56\n",
      "3778.538 | 57\n",
      "4073.216 | 58\n",
      "4367.801 | 59\n"
     ]
    }
   ],
   "source": [
    "B = 40\n",
    "n = 0.4\n",
    "stretch_list = []\n",
    "sustain_list = []\n",
    "B_list = []\n",
    "\n",
    "B = 30\n",
    "\n",
    "for i in range(30):\n",
    "    secondary_data()\n",
    "    B_list.append(B)\n",
    "    sustain_list.append(static_calculation(show_winter=False, output=\"sustain\", print_all=False))\n",
    "    stretch_list.append(static_calculation(show_winter=False, output=\"stretch\", print_all=False))\n",
    "    B += 1\n",
    "\n",
    "fig, ax = plt.subplots()\n",
    "ax.plot(sustain_list, B_list)\n",
    "ax.set(ylabel = \"B (meters)\", xlabel = \"Sustainability criteria\", title = \"Sustainability criteria (B), n=\"+str(n))\n",
    "ax.grid()\n",
    "\n",
    "#fig.savefig(\"test.png\")\n",
    "plt.show()\n",
    "\n",
    "print(\"Min stretch stress criteria value (must be greater than 10):\")\n",
    "print(str(min(stretch_list))[:5])\n",
    "print()\n",
    "print(\"Sustainability criteria values: \")\n",
    "print(\"Sustain  | B\")\n",
    "print(\"____________\")\n",
    "for i in range(len(B_list)):\n",
    "    print(str(sustain_list[i])[:8], B_list[i], sep=\" | \")"
   ]
  },
  {
   "cell_type": "markdown",
   "metadata": {},
   "source": [
    "## Plotting n"
   ]
  },
  {
   "cell_type": "code",
   "execution_count": 7,
   "metadata": {},
   "outputs": [
    {
     "data": {
      "image/png": "[encoded data removed]",
      "text/plain": [
       "<Figure size 432x288 with 1 Axes>"
      ]
     },
     "metadata": {
      "needs_background": "light"
     },
     "output_type": "display_data"
    },
    {
     "name": "stdout",
     "output_type": "stream",
     "text": [
      "Min stretch stress criteria value (must be greater than 10):\n",
      "163.1\n",
      "\n",
      "Sustainability criteria values: \n",
      "Sustain  | n\n",
      "____________\n",
      "-2539.31 | 0.05\n",
      "-2690.07 | 0.06\n",
      "-2766.71 | 0.07\n",
      "-2796.98 | 0.08\n",
      "-2796.33 | 0.09\n",
      "-2774.00 | 0.09\n",
      "-2735.89 | 0.10\n",
      "-2685.92 | 0.11\n",
      "-2626.82 | 0.12\n",
      "-2560.53 | 0.13\n",
      "-2488.47 | 0.15\n",
      "-2411.71 | 0.16\n",
      "-2331.06 | 0.17\n",
      "-2247.17 | 0.18\n",
      "-2160.54 | 0.19\n",
      "-2071.56 | 0.20\n",
      "-1980.57 | 0.21\n",
      "-1887.82 | 0.22\n",
      "-1793.54 | 0.23\n",
      "-1697.92 | 0.24\n",
      "-1601.10 | 0.25\n",
      "-1503.22 | 0.26\n",
      "-1404.39 | 0.27\n",
      "-1304.70 | 0.28\n",
      "-1204.24 | 0.29\n",
      "-1103.08 | 0.30\n",
      "-1001.28 | 0.31\n",
      "-898.900 | 0.32\n",
      "-795.979 | 0.33\n",
      "-692.564 | 0.34\n",
      "-588.694 | 0.35\n",
      "-484.402 | 0.36\n",
      "-379.718 | 0.37\n",
      "-274.670 | 0.38\n",
      "-169.281 | 0.39\n",
      "-63.5743 | 0.40\n",
      "42.43115 | 0.41\n",
      "148.7169 | 0.42\n",
      "255.2665 | 0.43\n",
      "362.0648 | 0.44\n",
      "469.0981 | 0.45\n",
      "576.3538 | 0.46\n",
      "683.8201 | 0.47\n",
      "791.4863 | 0.48\n",
      "899.3427 | 0.49\n",
      "1007.379 | 0.50\n",
      "1115.589 | 0.51\n",
      "1223.963 | 0.52\n",
      "1332.495 | 0.53\n",
      "1441.176 | 0.54\n"
     ]
    }
   ],
   "source": [
    "B = 44\n",
    "n = 0.4\n",
    "stretch_list = []\n",
    "n_list = []\n",
    "sustain_list = []\n",
    "\n",
    "n = 0.05\n",
    "for i in range(50):\n",
    "    secondary_data()\n",
    "    n_list.append(n)\n",
    "    sustain_list.append(static_calculation(show_winter=False, output=\"sustain\", print_all=False))\n",
    "    stretch_list.append(static_calculation(show_winter=False, output=\"stretch\", print_all=False))\n",
    "    n += 0.01\n",
    "\n",
    "fig, ax = plt.subplots()\n",
    "ax.plot(sustain_list, n_list)\n",
    "#ax.ticklabel_format(style = 'plain')\n",
    "\n",
    "ax.set(xlabel='Sustainability Criteria', ylabel='n',\n",
    "       title='Sustainability criteria (n), B = '+str(B))\n",
    "ax.grid()\n",
    "\n",
    "#fig.savefig(\"test.png\")\n",
    "plt.show()\n",
    "\n",
    "print(\"Min stretch stress criteria value (must be greater than 10):\")\n",
    "print(str(min(stretch_list))[:5])\n",
    "print()\n",
    "print(\"Sustainability criteria values: \")\n",
    "print(\"Sustain  | n\")\n",
    "print(\"____________\")\n",
    "for i in range(len(n_list)):\n",
    "    print(str(sustain_list[i])[:8], str(n_list[i])[:4], sep=\" | \")"
   ]
  },
  {
   "cell_type": "markdown",
   "metadata": {},
   "source": [
    "## Figuring out B(n) dependence"
   ]
  },
  {
   "cell_type": "code",
   "execution_count": 16,
   "metadata": {},
   "outputs": [
    {
     "data": {
      "image/png": "[encoded data removed]",
      "text/plain": [
       "<Figure size 648x432 with 1 Axes>"
      ]
     },
     "metadata": {
      "needs_background": "light"
     },
     "output_type": "display_data"
    }
   ],
   "source": [
    "B = 30\n",
    "n = 0.3\n",
    "B_list = []\n",
    "n_list = []\n",
    "\n",
    "n = 0.12\n",
    "for i in range(50):\n",
    "    B = 30\n",
    "    sustain_min = None\n",
    "    B_sustain = None\n",
    "    for j in range(31):\n",
    "        #sustain_list.append(abs(static_calculation(show_winter=False, output=\"sustain\", print_all=False)))\n",
    "        current_sustain = abs(static_calculation(show_winter=False, output=\"sustain\", print_all=False))\n",
    "        if sustain_min == None:\n",
    "            sustain_min = current_sustain\n",
    "        if B_sustain == None:\n",
    "            B_sustain = B\n",
    "        if current_sustain < sustain_min:\n",
    "            sustain_min = current_sustain\n",
    "            B_sustain = B\n",
    "        B += 1\n",
    "    B_list.append(B_sustain)\n",
    "    n_list.append(n)\n",
    "    n += 0.01\n",
    "    \n",
    "#plotting\n",
    "\n",
    "fig, ax = plt.subplots(figsize=(9, 6))\n",
    "ax.plot(B_list, n_list ,\"g^\")\n",
    "#ax.ticklabel_format(style = 'plain')\n",
    "\n",
    "ax.set(xlabel='B, meters', ylabel='n',\n",
    "       title='B(n) dependence')\n",
    "ax.grid()\n",
    "\n",
    "#fig.savefig(\"test.png\")\n",
    "plt.show()"
   ]
  },
  {
   "cell_type": "markdown",
   "metadata": {},
   "source": [
    "## Overall check"
   ]
  },
  {
   "cell_type": "code",
   "execution_count": 9,
   "metadata": {},
   "outputs": [
    {
     "name": "stdout",
     "output_type": "stream",
     "text": [
      "B = 44, Ht = 50, n = 0.4\n",
      "N = 18381.83657341873 tons\n",
      "Qsummer = | 15277.604838452968 | tons | Msummer = | 275237.4367416693 | tons * m\n",
      "Qwinter = | 15274.8 | tons | Mwinter = | 275106.78788577026 | tons * m\n",
      "\n",
      "Stretching stress criteria (must be more than 10) = 192.07466605913152\n",
      "\n",
      "Sustainability criteria (must be close to 0) = -63.57435310371511\n"
     ]
    }
   ],
   "source": [
    "B = 44\n",
    "n = 0.4\n",
    "secondary_data()\n",
    "static_calculation(show_winter=True, output=None, print_all=True)"
   ]
  },
  {
   "cell_type": "code",
   "execution_count": null,
   "metadata": {},
   "outputs": [],
   "source": []
  }
 ],
 "metadata": {
  "kernelspec": {
   "display_name": "Python 3",
   "language": "python",
   "name": "python3"
  },
  "language_info": {
   "codemirror_mode": {
    "name": "ipython",
    "version": 3
   },
   "file_extension": ".py",
   "mimetype": "text/x-python",
   "name": "python",
   "nbconvert_exporter": "python",
   "pygments_lexer": "ipython3",
   "version": "3.6.5"
  }
 },
 "nbformat": 4,
 "nbformat_minor": 2
}
