{
 "cells": [
  {
   "cell_type": "markdown",
   "metadata": {},
   "source": [
    "Для разных Ht = 60, 80, 100\n",
    "перебор n получить B и G при условии прочности и устойчивости"
   ]
  },
  {
   "cell_type": "code",
   "execution_count": 1,
   "metadata": {},
   "outputs": [],
   "source": [
    "from math import sqrt\n",
    "import numpy as np\n",
    "import matplotlib.pyplot as plt\n",
    "\n",
    "float_formatter = \"{:.2f}\".format\n",
    "np.set_printoptions(formatter={'float_kind':float_formatter})"
   ]
  },
  {
   "cell_type": "code",
   "execution_count": 2,
   "metadata": {},
   "outputs": [],
   "source": [
    "#constant\n",
    "const_pi = 3.1415\n",
    "\n",
    "#dam profile\n",
    "B = 60\n",
    "n = 0.4  #0.1 - 0.5\n",
    "Ht = 60 #height of triangle profile\n",
    "H2 = 105.2 - 98 # = 7.2 meters\n",
    "\n",
    "#section profile\n",
    "b = Ht * 0.15 #meters\n",
    "D = 20 #meters\n",
    "d = 10 #meters\n",
    "#coast:\n",
    "Bc = 10 #meters\n",
    "\n",
    "#reservoir\n",
    "hw = 0.8 #meters\n",
    "W_ice = 10 #in tons / m\n",
    "h_ice = 1 #in meters\n",
    "H_allu = 24 #in meters - Alluvium layer thickness\n",
    "\n",
    "#density\n",
    "dens_c = 2.4 #tons / m ** 3 - Concrete\n",
    "dens_w = 1 #ton / m ** 3 - Water\n",
    "dens_allu = 1.05 #tons / m ** 3 - Alluvium\n",
    "\n",
    "#criteria\n",
    "sigma_a = 1000 #tons / m**2\n",
    "\n",
    "#secondary data\n",
    "Lw = 11 * hw #in meters\n",
    "dhw = const_pi * hw ** 2 / Lw #in meters\n",
    "m = B / Ht - n\n",
    "dc = hw + dhw + 0.6 #meters\n",
    "ec = 1 #meters"
   ]
  },
  {
   "cell_type": "code",
   "execution_count": 66,
   "metadata": {},
   "outputs": [
    {
     "name": "stdout",
     "output_type": "stream",
     "text": [
      "B = 60\n",
      "n = 0.4\n",
      "m = 0.6\n",
      "dc = 1.6284727272727273\n",
      "F = 716.9258240356726\n",
      "x_A = 26.077545434775875\n",
      "x_B = 33.92245456522413\n",
      "Jy = 238069.49037330007\n",
      "W_A = 9129.29059863974\n",
      "W_B = 7018.0502391285945\n",
      "\n",
      "Own weight\n",
      "G1 = 43200.0\n",
      "G2 = 16837.318661136844\n",
      "G3 = 781.6669090909091\n",
      "G4 = 960.0\n",
      "G5 = -959.9999999999999\n",
      "G6 = -817.4798512374274\n",
      "\n",
      "l1 = 1.9224545652241243\n",
      "l2 = -8.127912362768209\n",
      "l3 = -1.0775454347758746\n",
      "l4 = -4.744212101442541\n",
      "l5 = 4.2557878985574575\n",
      "l6 = 9.042923721469545\n",
      "\n",
      "a1 = 4.0\n",
      "a2 = 6.0\n",
      "a* = 17.21477405871346\n",
      "b* = -12.30761937235863\n",
      "n1 = 0.76\n",
      "\n",
      "M1 = 83050.03721768217\n",
      "M2 = -136852.250501722 = 172.39581782596574 and 17.67675231531484\n",
      "M3 = -842.2816094062778\n",
      "M4 = -4554.443617384839\n",
      "M5 = -4085.556382615159, M5_1 = 2.6666666666666674\n",
      "M6 = -7392.407938578328 brackets = 1.9155570731866105, -5.451877645862224, -8.212697069407767, -123.20679897630546\n",
      "\n",
      "Water pressure\n",
      "W upper horizontal = 36000.0\n",
      "W upper vertical = 14400.0\n",
      "W lower horizontal = -518.4000000000004\n",
      "W lower vertical = 51.84000000000003\n",
      "M upper horizontal = 720000.0\n",
      "M upper vertical = -260316.65426077263\n",
      "M lower horizontal = -1244.1600000000014\n",
      "M lower vertical = 601.5640844661223\n",
      "Suspending force = -5148.000000000002\n",
      "Filtering part = -14783.999999999998\n",
      "Filtering part moment = 282042.4317077265\n",
      "Alluvium vertical = 2419.2000000000003\n",
      "Alluvium vertical moment = -55345.35791580981\n",
      "Alluvium horizontal = 6048.000000000001\n",
      "Alluvium horizontal moment = -55345.35791580981\n",
      "Wave pressure horizontal part = 25.609676905936656\n",
      "Wave pressure moment = 1508.3944808575136\n",
      "Wave pressure vertical part = 10.243870762374662\n",
      "\n",
      "Summary\n",
      "Construction period\n",
      "N = 60001.50571899033\n",
      "M = -70676.90283202444\n",
      "Working period\n",
      "N = 56950.7895897527\n",
      "Q = 41555.209676905935\n",
      "M = 664953.3152644433\n",
      "\n",
      "573032.5162014975\n",
      "Stresses:\n",
      "coordinates = [ 0  1  2  3  4  5  6  7  8  9 10 11 12 13 14 15 16 17 18 19 20 21 22 23\n",
      " 24 25 26 27 28 29 30 31 32 33 34 35 36 37 38 39 40 41 42 43 44 45 46 47\n",
      " 48 49 50 51 52 53 54 55 56 57 58 59 60]\n",
      "sigma z = [79.44 82.23 85.02 87.82 90.61 93.40 96.20 98.99 101.78 104.58 107.37\n",
      " 110.16 112.95 115.75 118.54 121.33 124.13 126.92 129.71 132.51 135.30\n",
      " 138.09 140.89 143.68 146.47 149.27 152.06 154.85 157.64 160.44 163.23\n",
      " 166.02 168.82 171.61 174.40 177.20 179.99 182.78 185.58 188.37 191.16\n",
      " 193.95 196.75 199.54 202.33 205.13 207.92 210.71 213.51 216.30 219.09\n",
      " 221.89 224.68 227.47 230.27 233.06 235.85 238.64 241.44 244.23 247.02]\n"
     ]
    },
    {
     "data": {
      "image/png": "[encoded data removed]",
      "text/plain": [
       "<Figure size 432x288 with 1 Axes>"
      ]
     },
     "metadata": {
      "needs_background": "light"
     },
     "output_type": "display_data"
    },
    {
     "data": {
      "text/plain": [
       "60001.50571899033"
      ]
     },
     "execution_count": 66,
     "metadata": {},
     "output_type": "execute_result"
    }
   ],
   "source": [
    "def static_calc(output=\"G\", print_init=False, print_var=False, print_results=False, plots=False):\n",
    "    \n",
    "    Lw = 11 * hw #in meters\n",
    "    dhw = const_pi * hw ** 2 / Lw #in meters\n",
    "    m = B / Ht - n\n",
    "    dc = hw + dhw + 0.6 #meters\n",
    "    #ec = 0.5 #meters\n",
    "    \n",
    "    sqrt1n = sqrt(1 + n ** 2)\n",
    "    a = (D - d) / 2\n",
    "    F = B * d + a * (2 * b + a * sqrt1n)\n",
    "    \n",
    "    x_cm = (0.5 * B ** 2 * d + a * b ** 2 + a ** 2 * (b + a * sqrt1n / 3) * sqrt1n) / F\n",
    "    x_B = B - x_cm\n",
    "    \n",
    "    Jy_list = [0, 0, 0, 0, 0, 0]\n",
    "    Jy_list[0] = B ** 3 * d / 12\n",
    "    Jy_list[1] = a * b ** 3 / 6\n",
    "    Jy_list[2] = a ** 4 / 18 * sqrt1n ** 1.5\n",
    "    Jy_list[3] = (x_cm - 0.5 * B) ** 2 * B * d\n",
    "    Jy_list[4] = 2 * (x_cm - 0.5 * b) ** 2 * a * b\n",
    "    Jy_list[5] = a ** 2 *(x_cm - b - a * sqrt1n / 3) ** 2 * sqrt1n\n",
    "    \n",
    "    Jy = 0\n",
    "    for item in Jy_list:\n",
    "        Jy += item\n",
    "        \n",
    "    W_A = Jy / x_cm\n",
    "    W_B = Jy / x_B\n",
    "    \n",
    "    if print_init == True:\n",
    "        print(f\"B = {B}\")\n",
    "        print(f\"n = {n}\")\n",
    "        print(f\"m = {m}\")\n",
    "        print(f\"dc = {dc}\")\n",
    "        print(f\"F = {F}\")\n",
    "        print(f\"x_A = {x_cm}\")\n",
    "        print(f\"x_B = {x_B}\")\n",
    "        print(f\"Jy = {Jy}\")\n",
    "        print(f\"W_A = {W_A}\")\n",
    "        print(f\"W_B = {W_B}\", end=\"\\n\\n\")\n",
    "        \n",
    "    #Own weight\n",
    "        \n",
    "    G1 = 0.5 * dens_c * B * Ht * d\n",
    "    M1 = dens_c * Ht * B * d * (B - 3 * x_cm + n * Ht) / 6\n",
    "\n",
    "    G2 = dens_c * Ht * (a * sqrt1n + 2 * b) * a\n",
    "    M2_1 = b * (2 * x_cm - b - n * Ht)\n",
    "    M2_2 = a * sqrt1n * (x_cm - b - (n * Ht) / 2 - (a * sqrt1n) / 3)\n",
    "    M2 = -dens_c * Ht * a * (M2_1 + M2_2)\n",
    "\n",
    "    G3 = dens_c * Bc * D * dc\n",
    "    M3 = -G3 * (x_cm - n * Ht - ec)\n",
    "\n",
    "    a1 = (0.5 * Bc - ec)\n",
    "    G4 = 0.5 * dens_c * D * a1 ** 2 / n\n",
    "    M4 = -G4 * (x_cm - n * Ht + (2 * a1) / 3)\n",
    "\n",
    "    a2 = (0.5 * Bc + ec)\n",
    "    G5 = -0.5 * dens_c * n * D * a2 ** 2 / m ** 2\n",
    "    M5_1 = 2 * n * a2 / (3 * m)\n",
    "    M5 = -G5 * (x_cm - b - n * Ht + M5_1)\n",
    "\n",
    "    a_star = a2 * (b + a * sqrt1n) * sqrt1n / (m * b)\n",
    "    b_star = x_cm - b - n * Ht - a * sqrt1n\n",
    "    n_1 = 1 - n * m / (n + m)\n",
    "    G6_1 = a_star - (2 * a * sqrt1n * Ht) / (3 * B)\n",
    "    G6 = -dens_c * a ** 2 * G6_1\n",
    "    \n",
    "    sqrt1n_1 = sqrt(1 + n_1 ** 2)\n",
    "    M6_1 = n * (2 + n ** 2) / sqrt1n + n_1 * (2 - n ** 2) / sqrt1n_1\n",
    "    M6_2 = n * n_1 * a_star + (n + n_1) * b_star + 3 * a * M6_1 / 8\n",
    "    M6_2_2 = b_star + n * a / 2 + 2 * a / (3 * sqrt1n)\n",
    "    M6_3 = a_star * M6_2_2 - 2 * a * M6_2 / 3\n",
    "    M6 = dens_c * a ** 2 * M6_3\n",
    "\n",
    "    if print_var == True:\n",
    "        print(\"Own weight\")\n",
    "        print(f\"G1 = {G1}\")\n",
    "        print(f\"G2 = {G2}\")\n",
    "        print(f\"G3 = {G3}\")\n",
    "        print(f\"G4 = {G4}\")\n",
    "        print(f\"G5 = {G5}\")\n",
    "        print(f\"G6 = {G6}\", end=\"\\n\\n\")\n",
    "        \n",
    "        print(f\"l1 = {M1 / G1}\")\n",
    "        print(f\"l2 = {M2 / G2}\")\n",
    "        print(f\"l3 = {M3 / G3}\")\n",
    "        print(f\"l4 = {M4 / G4}\")\n",
    "        print(f\"l5 = {M5 / G5}\")\n",
    "        print(f\"l6 = {M6 / G6}\", end=\"\\n\\n\")\n",
    "        \n",
    "        print(f\"a1 = {a1}\")\n",
    "        print(f\"a2 = {a2}\")\n",
    "        print(f\"a* = {a_star}\")\n",
    "        print(f\"b* = {b_star}\")\n",
    "        print(f\"n1 = {n_1}\", end=\"\\n\\n\")\n",
    "        \n",
    "        print(f\"M1 = {M1}\")\n",
    "        print(f\"M2 = {M2} = {M2_1} and {M2_2}\")\n",
    "        print(f\"M3 = {M3}\")\n",
    "        print(f\"M4 = {M4}\")\n",
    "        print(f\"M5 = {M5}, M5_1 = {M5_1}\")\n",
    "        print(f\"M6 = {M6} brackets = {M6_1}, {M6_2}, {M6_2_2}, {M6_3}\", end=\"\\n\\n\")\n",
    "        \n",
    "    #Water pressure\n",
    "    #upper horizontal\n",
    "    \n",
    "    H1 = Ht\n",
    "    W_uphor = 0.5 * dens_w * H1 ** 2 * D\n",
    "    M_uphor = dens_w * H1 ** 3 * D / 6\n",
    "\n",
    "    #upper vertical\n",
    "    W_upvert = n * W_uphor\n",
    "    M_upvert = -dens_w * n * D * H1 ** 2 * (3 * x_cm - n * H1) / 6\n",
    "\n",
    "    #lower horizontal\n",
    "    W_lowhor = -0.5 * dens_w * H2 ** 2 * D\n",
    "    M_lowhor = W_lowhor * H2 / 3\n",
    "\n",
    "    #lower vertical\n",
    "    W_lowvert = (n - B * d / (Ht * D)) * W_lowhor\n",
    "    M_lowvert_1 = x_cm - b - a / 2 - n * H2 / 3\n",
    "    M_lowvert_2 = x_B - m * H2\n",
    "    M_lowvert_3 = 2 * n * a * M_lowvert_1 + m * M_lowvert_2 * d\n",
    "    M_lowvert = M_lowvert_3 * W_lowvert / D\n",
    "    \n",
    "    #Anti-pressure\n",
    "    U1 = -dens_w * H2 * (D * b + a * (D + d) / 2 + (B - b - a) * d)\n",
    "    M_U1 = 0\n",
    "    U2 = -dens_w * (H1 - H2) * (b + a) * D\n",
    "    M_U2 = -U2 * (x_cm - (b + a) / 2)\n",
    "    \n",
    "    #Alluvium pressure\n",
    "    W_alluhor = 0.5 * dens_allu * H_allu ** 2 * D\n",
    "    M_alluhor = W_alluhor * H_allu / 3\n",
    "\n",
    "    W_alluvert = 0.5 * dens_allu * n * H_allu ** 2 * D\n",
    "    M_alluvert = -W_alluvert *  (x_cm - n * H_allu / 3)\n",
    "    \n",
    "    #Wave pressure\n",
    "    W_wavhor = dens_w * hw * (Lw / const_pi + hw / 2) * D / 2\n",
    "    M_wavhor = W_wavhor * (H1 - Lw / (2 * const_pi) + 3 * hw / 8)\n",
    "\n",
    "    W_wavvert = W_wavhor * n\n",
    "    \n",
    "    if print_var == True:\n",
    "        print(\"Water pressure\")\n",
    "        print(f\"W upper horizontal = {W_uphor}\")\n",
    "        print(f\"W upper vertical = {W_upvert}\")\n",
    "        print(f\"W lower horizontal = {W_lowhor}\")\n",
    "        print(f\"W lower vertical = {W_lowvert}\")\n",
    "        \n",
    "        print(f\"M upper horizontal = {M_uphor}\")\n",
    "        print(f\"M upper vertical = {M_upvert}\")\n",
    "        print(f\"M lower horizontal = {M_lowhor}\")\n",
    "        print(f\"M lower vertical = {M_lowvert}\")\n",
    "        \n",
    "        print(f\"Suspending force = {U1}\")\n",
    "        print(f\"Filtering part = {U2}\")\n",
    "        print(f\"Filtering part moment = {M_U2}\")\n",
    "        \n",
    "        print(f\"Alluvium vertical = {W_alluvert}\")\n",
    "        print(f\"Alluvium vertical moment = {M_alluvert}\")\n",
    "        print(f\"Alluvium horizontal = {W_alluhor}\")\n",
    "        print(f\"Alluvium horizontal moment = {M_alluvert}\")\n",
    "        \n",
    "        print(f\"Wave pressure horizontal part = {W_wavhor}\")\n",
    "        print(f\"Wave pressure moment = {M_wavhor}\")\n",
    "        print(f\"Wave pressure vertical part = {W_wavvert}\")\n",
    "        \n",
    "        \n",
    "        print(\"\")\n",
    "        \n",
    "#Construction period - reservoir empty\n",
    "\n",
    "    N = G1 + G2 + G3 + G4 + G5 + G6\n",
    "    Qsummer = None\n",
    "    Msummer = M1 + M2 + M3 + M4 + M5 + M6\n",
    "\n",
    "    if print_results == True:\n",
    "        print(\"Summary\")\n",
    "        print(\"Construction period\")\n",
    "        print(f\"N = {G1 + G2 + G3 + G4 + G5 + G6}\")\n",
    "        print(f\"M = {M1 + M2 + M3 + M4 + M5 + M6}\")\n",
    "        \n",
    "#Working period - reservoir full\n",
    "        \n",
    "    M_water = M_uphor + M_upvert + M_lowhor + M_lowvert\n",
    "    N = G1 + G2 + G3 + G4 + G5 + G6 + W_upvert + W_lowvert + U1 + U2 + W_wavvert + W_alluvert\n",
    "    Qsummer = W_uphor + W_lowhor + W_alluhor + W_wavhor\n",
    "    Msummer = M1 + M2 + M3 + M4 + M5 + M6 + M_water + M_U2 + M_alluhor + M_alluvert + M_wavhor\n",
    "    \n",
    "\n",
    "    if print_results == True:\n",
    "        print(\"Working period\")\n",
    "        print(f\"N = {N}\")\n",
    "        print(f\"Q = {Qsummer}\")\n",
    "        print(f\"M = {Msummer}\", end=\"\\n\\n\")\n",
    "\n",
    "#criteria\n",
    "    k3 = 1.25\n",
    "    f = 0.75\n",
    "    c = 20\n",
    "    no_stretch_eq = 0.1 * B ** 2 - N * B + 6 * Msummer\n",
    "    sustainability = f * N + c * B - k3 * Qsummer\n",
    "    if print_results == True:\n",
    "        print(no_stretch_eq)\n",
    "\n",
    "#Stresses\n",
    "\n",
    "    sigma_z_coord = np.arange(0, B + 1, 1)\n",
    "    sigma_z = N / F + Msummer * sigma_z_coord / Jy\n",
    "    \n",
    "    if print_results == True:\n",
    "        print(\"Stresses:\")\n",
    "        print(f\"coordinates = {sigma_z_coord}\")\n",
    "        print(f\"sigma z = {sigma_z}\")\n",
    "    \n",
    "    if plots == True:\n",
    "        plt.stem(sigma_z_coord, sigma_z, use_line_collection=True)\n",
    "        plt.show()\n",
    "        \n",
    "    if output == \"G\":\n",
    "        return G1 + G2 + G3 + G4 + G5 + G6\n",
    "    if output == \"no_stretch\":\n",
    "        return no_stretch_eq\n",
    "    if output == \"sustainability\":\n",
    "        return sustainability\n",
    "        \n",
    "static_calc(print_init=True, print_var=True, print_results=True, plots=True)"
   ]
  },
  {
   "cell_type": "code",
   "execution_count": 74,
   "metadata": {},
   "outputs": [
    {
     "name": "stdout",
     "output_type": "stream",
     "text": [
      "n = 0.1 57.0 | 79.0\n",
      "n = 0.15000000000000002 59.0 | 79.0\n",
      "n = 0.20000000000000004 60.0 | 79.0\n",
      "n = 0.25000000000000006 61.0 | 79.0\n",
      "n = 0.30000000000000004 61.0 | 79.0\n",
      "n = 0.3500000000000001 62.0 | 77.0\n",
      "n = 0.40000000000000013 63.0 | 75.0\n",
      "n = 0.45000000000000007 64.0 | 72.0\n",
      "n = 0.5000000000000001 65.0 | 70.0\n",
      "n = 0.5500000000000002 66.0 | 68.0\n",
      "n = 0.6000000000000002 67.0 | 66.0\n",
      "n = 0.6500000000000001 67.0 | 65.0\n",
      "n = 0.7000000000000002 68.0 | 64.0\n",
      "n = 0.7500000000000002 69.0 | 64.0\n",
      "0.4\n",
      "60\n"
     ]
    },
    {
     "data": {
      "image/png": "[encoded data removed]",
      "text/plain": [
       "<Figure size 432x288 with 1 Axes>"
      ]
     },
     "metadata": {
      "needs_background": "light"
     },
     "output_type": "display_data"
    }
   ],
   "source": [
    "n = 0.4\n",
    "n_temp = n\n",
    "n_array = np.arange(0.1, 0.8, 0.05)\n",
    "B_str_array = np.zeros(len(n_array))\n",
    "B_sus_array = np.zeros(len(n_array))\n",
    "B_array = np.arange(30, 80, 1)\n",
    "n = 0.1\n",
    "\n",
    "for j, n_item in enumerate(n_array):\n",
    "    n = n_item\n",
    "    \n",
    "    print(f\"n = {n}\", end=\" \")\n",
    "    \n",
    "    s_array = np.zeros(len(B_array))\n",
    "    sus_array = np.zeros(len(B_array))\n",
    "    B_temp = B\n",
    "    \n",
    "    for i, item in enumerate(B_array):\n",
    "        B = item\n",
    "        s_array[i] = static_calc(output=\"no_stretch\")\n",
    "        sus_array[i] = static_calc(output=\"sustainability\")\n",
    "    \n",
    "    B = B_temp\n",
    "    B_str_array[j] = B_array[np.absolute(s_array).argmin()]\n",
    "    B_sus_array[j] = B_array[np.absolute(sus_array).argmin()]\n",
    "    \n",
    "    print(B_str_array[j], end=\" | \")\n",
    "    print(B_sus_array[j])\n",
    "\n",
    "n = n_temp\n",
    "\n",
    "print(n)\n",
    "print(B)\n",
    "\n",
    "\n",
    "fig, ax = plt.subplots()\n",
    "\n",
    "# Using set_dashes() to modify dashing of an existing line\n",
    "line1, = ax.plot(n_array, B_str_array / Ht, label='Stretch')\n",
    "line1.set_dashes([2, 2, 10, 2])  # 2pt line, 2pt break, 10pt line, 2pt break\n",
    "\n",
    "# Using plot(..., dashes=...) to set the dashing when creating a line\n",
    "line2, = ax.plot(n_array, B_sus_array / Ht, dashes=[6, 2], label='Sustain')\n",
    "\n",
    "ax.legend()\n",
    "plt.show()"
   ]
  },
  {
   "cell_type": "code",
   "execution_count": 5,
   "metadata": {},
   "outputs": [
    {
     "data": {
      "text/plain": [
       "43200.0"
      ]
     },
     "execution_count": 5,
     "metadata": {},
     "output_type": "execute_result"
    }
   ],
   "source": [
    "0.5 * 2.4 * 60 * 60 * 10"
   ]
  },
  {
   "cell_type": "code",
   "execution_count": 6,
   "metadata": {},
   "outputs": [
    {
     "data": {
      "text/plain": [
       "86400.0"
      ]
     },
     "execution_count": 6,
     "metadata": {},
     "output_type": "execute_result"
    }
   ],
   "source": [
    "2.4 * 60 * 60 * 10 * (60 - 3 * 26 + 0.4 * 60) / 6"
   ]
  },
  {
   "cell_type": "code",
   "execution_count": 7,
   "metadata": {},
   "outputs": [
    {
     "data": {
      "text/plain": [
       "2.0"
      ]
     },
     "execution_count": 7,
     "metadata": {},
     "output_type": "execute_result"
    }
   ],
   "source": [
    "86400 / 43200"
   ]
  },
  {
   "cell_type": "code",
   "execution_count": 8,
   "metadata": {},
   "outputs": [
    {
     "name": "stdout",
     "output_type": "stream",
     "text": [
      "0.4\n",
      "9.0\n"
     ]
    },
    {
     "data": {
      "text/plain": [
       "1.077032961426901"
      ]
     },
     "execution_count": 8,
     "metadata": {},
     "output_type": "execute_result"
    }
   ],
   "source": [
    "sqrt1n = sqrt(1 + n ** 2)\n",
    "print(n)\n",
    "print(b)\n",
    "sqrt1n"
   ]
  },
  {
   "cell_type": "code",
   "execution_count": 9,
   "metadata": {},
   "outputs": [
    {
     "data": {
      "text/plain": [
       "16837.199999999997"
      ]
     },
     "execution_count": 9,
     "metadata": {},
     "output_type": "execute_result"
    }
   ],
   "source": [
    "2.4 * 60 * (5 * 1.077 + 2 * 9) * 5"
   ]
  },
  {
   "cell_type": "code",
   "execution_count": 10,
   "metadata": {},
   "outputs": [
    {
     "data": {
      "text/plain": [
       "171.0"
      ]
     },
     "execution_count": 10,
     "metadata": {},
     "output_type": "execute_result"
    }
   ],
   "source": [
    "asd1 = 9 * (2 * 26 - 9 - 0.4 * 60)\n",
    "asd1"
   ]
  },
  {
   "cell_type": "code",
   "execution_count": 11,
   "metadata": {},
   "outputs": [
    {
     "data": {
      "text/plain": [
       "17.259157369005855"
      ]
     },
     "execution_count": 11,
     "metadata": {},
     "output_type": "execute_result"
    }
   ],
   "source": [
    "asd2 = (26 - 9 - (0.4 * 60) / 2 - 5 * sqrt1n / 3) * 5 * sqrt1n\n",
    "asd2"
   ]
  },
  {
   "cell_type": "code",
   "execution_count": 12,
   "metadata": {},
   "outputs": [
    {
     "data": {
      "text/plain": [
       "188.25915736900586"
      ]
     },
     "execution_count": 12,
     "metadata": {},
     "output_type": "execute_result"
    }
   ],
   "source": [
    "asd1 + asd2"
   ]
  },
  {
   "cell_type": "code",
   "execution_count": 13,
   "metadata": {},
   "outputs": [
    {
     "data": {
      "text/plain": [
       "-135546.59330568422"
      ]
     },
     "execution_count": 13,
     "metadata": {},
     "output_type": "execute_result"
    }
   ],
   "source": [
    "#M2\n",
    "-((asd1 + asd2) * 2.4 * 5 * 60)"
   ]
  },
  {
   "cell_type": "code",
   "execution_count": 14,
   "metadata": {},
   "outputs": [
    {
     "data": {
      "text/plain": [
       "1.6284727272727273"
      ]
     },
     "execution_count": 14,
     "metadata": {},
     "output_type": "execute_result"
    }
   ],
   "source": [
    "dc"
   ]
  },
  {
   "cell_type": "code",
   "execution_count": 15,
   "metadata": {},
   "outputs": [
    {
     "data": {
      "text/plain": [
       "777.6"
      ]
     },
     "execution_count": 15,
     "metadata": {},
     "output_type": "execute_result"
    }
   ],
   "source": [
    "2.4 * 10 * 20 * 1.62"
   ]
  },
  {
   "cell_type": "code",
   "execution_count": 16,
   "metadata": {},
   "outputs": [
    {
     "data": {
      "text/plain": [
       "-0.0"
      ]
     },
     "execution_count": 16,
     "metadata": {},
     "output_type": "execute_result"
    }
   ],
   "source": [
    "(26 - 0.4 * 60 - 2) * -2.4 * 10 * 20 * 1.62"
   ]
  },
  {
   "cell_type": "code",
   "execution_count": 17,
   "metadata": {},
   "outputs": [
    {
     "data": {
      "text/plain": [
       "60814.6"
      ]
     },
     "execution_count": 17,
     "metadata": {},
     "output_type": "execute_result"
    }
   ],
   "source": [
    "43200 + 16837 + 777.6"
   ]
  },
  {
   "cell_type": "code",
   "execution_count": 18,
   "metadata": {},
   "outputs": [
    {
     "data": {
      "text/plain": [
       "84141"
      ]
     },
     "execution_count": 18,
     "metadata": {},
     "output_type": "execute_result"
    }
   ],
   "source": [
    "86400 - 2259 "
   ]
  },
  {
   "cell_type": "code",
   "execution_count": 19,
   "metadata": {},
   "outputs": [
    {
     "data": {
      "text/plain": [
       "69.50082290177282"
      ]
     },
     "execution_count": 19,
     "metadata": {},
     "output_type": "execute_result"
    }
   ],
   "source": [
    "60814 / 746 - 84141 * 34 / 238017"
   ]
  },
  {
   "cell_type": "code",
   "execution_count": null,
   "metadata": {},
   "outputs": [],
   "source": []
  }
 ],
 "metadata": {
  "kernelspec": {
   "display_name": "Python 3",
   "language": "python",
   "name": "python3"
  },
  "language_info": {
   "codemirror_mode": {
    "name": "ipython",
    "version": 3
   },
   "file_extension": ".py",
   "mimetype": "text/x-python",
   "name": "python",
   "nbconvert_exporter": "python",
   "pygments_lexer": "ipython3",
   "version": "3.6.5"
  }
 },
 "nbformat": 4,
 "nbformat_minor": 2
}
