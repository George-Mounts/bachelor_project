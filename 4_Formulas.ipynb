{
 "cells": [
  {
   "cell_type": "markdown",
   "metadata": {},
   "source": [
    "$$ x_A = (0.5 * B ^ 2  d + a  b ^ 2 + a ^ 2  (b + a  \\sqrt{1 + n ^ 2} / 3)  \\sqrt{1 + n ^ 2}) / F $$"
   ]
  },
  {
   "cell_type": "markdown",
   "metadata": {},
   "source": [
    "$$ x_B = B - x_A $$"
   ]
  },
  {
   "cell_type": "markdown",
   "metadata": {},
   "source": [
    "$$ Jy_0 = B ^ 3  d / 12 $$"
   ]
  },
  {
   "cell_type": "markdown",
   "metadata": {},
   "source": [
    "$$ Jy_1 = a  b ^ 3 / 6 $$"
   ]
  },
  {
   "cell_type": "markdown",
   "metadata": {},
   "source": [
    "$$ Jy_2 = \\frac {a ^ 4}{18} (1 + n ^ 2) ^ {1.5} $$"
   ]
  },
  {
   "cell_type": "markdown",
   "metadata": {},
   "source": [
    "$$ Jy_3 = (x_A - 0.5  B) ^ 2  B  d $$"
   ]
  },
  {
   "cell_type": "markdown",
   "metadata": {},
   "source": [
    "$$ Jy_4 = 2  (x_A - 0.5  b) ^ 2  a  b $$"
   ]
  },
  {
   "cell_type": "markdown",
   "metadata": {},
   "source": [
    "$$ Jy_5 = a ^ 2 (x_A - b - a  \\sqrt{1 + n ^ 2} / 3) ^ 2  \\sqrt{1 + n ^ 2} $$"
   ]
  },
  {
   "cell_type": "markdown",
   "metadata": {},
   "source": [
    "$$ Jy = \\sum J_{yi} $$"
   ]
  },
  {
   "cell_type": "markdown",
   "metadata": {},
   "source": [
    "$$W_A = \\frac{J_y}{|x_A|}$$"
   ]
  },
  {
   "cell_type": "markdown",
   "metadata": {},
   "source": [
    "$$W_B = \\frac{J_y}{|x_B|}$$"
   ]
  },
  {
   "cell_type": "markdown",
   "metadata": {},
   "source": [
    "$$F = B d + a (2  b + a  \\sqrt{1 + n ^ 2})$$"
   ]
  },
  {
   "cell_type": "markdown",
   "metadata": {},
   "source": [
    "$$a = (D - d) / 2 $$"
   ]
  },
  {
   "cell_type": "markdown",
   "metadata": {},
   "source": [
    "$$ G_1 = 0.5  \\gamma_c  B  Ht  d $$\n",
    "\n",
    "$$ M_1 = \\gamma_c  Ht  B  d  (B - 3  x_A + n  H_t) / 6 $$"
   ]
  },
  {
   "cell_type": "markdown",
   "metadata": {},
   "source": [
    "$$ G_2 = \\gamma_c  H_t  (a  \\sqrt{1 + n ^ 2} + 2  b)  a $$\n",
    "\n",
    "$$ M_{2,1} = b  (2  x_A - b - n  H_t) $$\n",
    "\n",
    "$$ M_{2,2} = a  \\sqrt{1 + n ^ 2}  (x_A - b - (n  H_t) / 2 - (a  \\sqrt{1 + n ^ 2}) / 3) $$\n",
    "\n",
    "$$ M_2 = -\\gamma_c  H_t  a ( M_{2,1} + M_{2,2} ) $$"
   ]
  },
  {
   "cell_type": "markdown",
   "metadata": {},
   "source": [
    "$$ d_{hw} = \\pi  h_w ^ 2 / L_w $$\n",
    "$$ d_c = hw + d_{hw} + 0.6 $$"
   ]
  },
  {
   "cell_type": "markdown",
   "metadata": {},
   "source": [
    "$$ G_3 = \\gamma_c  B_c  D  d_c $$\n",
    "$$ M_3 = -G_3 * (x_A - n  H_t - e_c) $$"
   ]
  },
  {
   "cell_type": "markdown",
   "metadata": {},
   "source": [
    "$$ a_1 = (0.5  B_c - e_c) $$\n",
    "$$ a_2 = (0.5  B_c + e_c) $$"
   ]
  },
  {
   "cell_type": "markdown",
   "metadata": {},
   "source": [
    "$$ G4 = 0.5  \\gamma_c  D  a_1 ^ 2 / n $$\n",
    "$$ M4 = -G4  (x_A - n  H_t + 2  a_1 / 3) $$"
   ]
  },
  {
   "cell_type": "markdown",
   "metadata": {},
   "source": [
    "$$ G5 = -0.5  \\gamma_c  n  D  a_2 ^ 2 / m ^ 2 $$\n",
    "$$ M_{5,1} = \\frac{2  n  a_2 }{ 3  m} $$\n",
    "$$ M_5 = -G_5 * (x_A - b - n  H_t + M_{5,1}) $$"
   ]
  },
  {
   "cell_type": "markdown",
   "metadata": {},
   "source": [
    "$$ a^* = \\frac{a_2  (b + a  \\sqrt{1 + n ^ 2})  \\sqrt{1 + n ^ 2}} {m  b} $$\n",
    "$$ b^* = x_A - b - n  H_t - a  \\sqrt{1 + n ^ 2} $$\n",
    "$$ n_1 = \\frac {1 - n  m}{n + m} $$"
   ]
  },
  {
   "cell_type": "markdown",
   "metadata": {},
   "source": []
  },
  {
   "cell_type": "markdown",
   "metadata": {},
   "source": []
  },
  {
   "cell_type": "markdown",
   "metadata": {},
   "source": []
  },
  {
   "cell_type": "markdown",
   "metadata": {},
   "source": []
  },
  {
   "cell_type": "markdown",
   "metadata": {},
   "source": []
  },
  {
   "cell_type": "markdown",
   "metadata": {},
   "source": [
    "$$ sqrt1n = \\sqrt{1 + n ^ 2} $$"
   ]
  },
  {
   "cell_type": "markdown",
   "metadata": {},
   "source": [
    "$$     a = (D - d) / 2 $$"
   ]
  },
  {
   "cell_type": "markdown",
   "metadata": {},
   "source": [
    "$$ F = B * d + a * (2 * b + a * \\sqrt{1 + n ^ 2}) $$"
   ]
  },
  {
   "cell_type": "markdown",
   "metadata": {},
   "source": [
    "$$ \\sigma_z = \\frac{\\sum N}{F} \\mp \\frac{\\sum M_cm \\times x}{J_y} $$"
   ]
  },
  {
   "cell_type": "markdown",
   "metadata": {},
   "source": [
    "$$  L_w = 11 * h_w $$"
   ]
  },
  {
   "cell_type": "markdown",
   "metadata": {},
   "source": [
    "$$ \\sigma_{x,A} = (1 - n ^ 2) p_A + n ^ 2 \\sigma_{z,A} $$\n",
    "\n",
    "$$ \\sigma_{x,B} = (1 - m ^ 2) p_B + m ^ 2 \\sigma_{z,B} $$\n",
    "\n",
    "$$ \\sigma_x = \\frac{\\sigma_{x,A} (x_B - x) D + \\sigma_{x,B} (x - x_A) d}{B d(x)} $$"
   ]
  },
  {
   "cell_type": "markdown",
   "metadata": {},
   "source": [
    "$$ d(x) =\n",
    "\\begin{cases}\n",
    "D, \\qquad \\qquad \\qquad \\qquad \\,x \\in [x_A; x_{C1}]\\\\\n",
    "D - \\frac{D - d}{x_{C2} - x_{C1}} (x - x_{C1}), \\quad x \\in [x_{C1}; x_{C2}]\\\\\n",
    "d, \\qquad \\qquad \\qquad \\qquad \\; x \\in [x_{C2}; x_B]\\\\\n",
    "\\end{cases}\n",
    "$$"
   ]
  },
  {
   "cell_type": "markdown",
   "metadata": {},
   "source": [
    "$$ \\tau_{xz,A} = n (p_A - \\sigma_{z,A}) $$\n",
    "\n",
    "$$ \\tau_{xz,B} = -m (p_B - \\sigma_{z,B}) $$"
   ]
  },
  {
   "cell_type": "markdown",
   "metadata": {},
   "source": []
  }
 ],
 "metadata": {
  "kernelspec": {
   "display_name": "Python 3",
   "language": "python",
   "name": "python3"
  },
  "language_info": {
   "codemirror_mode": {
    "name": "ipython",
    "version": 3
   },
   "file_extension": ".py",
   "mimetype": "text/x-python",
   "name": "python",
   "nbconvert_exporter": "python",
   "pygments_lexer": "ipython3",
   "version": "3.6.5"
  }
 },
 "nbformat": 4,
 "nbformat_minor": 2
}
