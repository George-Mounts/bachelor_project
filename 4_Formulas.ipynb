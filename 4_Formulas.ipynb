{
 "cells": [
  {
   "cell_type": "markdown",
   "metadata": {},
   "source": [
    "$$  L_w = 11 * h_w $$"
   ]
  },
  {
   "cell_type": "markdown",
   "metadata": {},
   "source": [
    "$$ sqrt1n = \\sqrt{1 + n ^ 2} $$"
   ]
  },
  {
   "cell_type": "markdown",
   "metadata": {},
   "source": [
    "$$     a = (D - d) / 2 $$"
   ]
  },
  {
   "cell_type": "markdown",
   "metadata": {},
   "source": [
    "$$ x_A = (0.5 * B ^ 2 * d + a * b ^ 2 + a ^ 2 * (b + a * \\sqrt{1 + n ^ 2} / 3) * \\sqrt{1 + n ^ 2}) / F $$"
   ]
  },
  {
   "cell_type": "markdown",
   "metadata": {},
   "source": [
    "$$ x_B = B - x_A $$"
   ]
  },
  {
   "cell_type": "markdown",
   "metadata": {},
   "source": [
    "$$ F = B * d + a * (2 * b + a * \\sqrt{1 + n ^ 2}) $$"
   ]
  },
  {
   "cell_type": "markdown",
   "metadata": {},
   "source": [
    "$$ Jy_0 = B ^ 3 * d / 12 $$\n",
    "$$ Jy_1 = a * b ^ 3 / 6 $$\n",
    "$$ Jy_2 = \\frac {a ^ 4}{18}* (1 + n ^ 2) ^ {1.5} $$\n",
    "$$ Jy_3 = (x_A - 0.5 * B) ^ 2 * B * d $$\n",
    "$$ Jy_4 = 2 * (x_A - 0.5 * b) ^ 2 * a * b $$\n",
    "$$ Jy_5 = a ^ 2 *(x_A - b - a * \\sqrt{1 + n ^ 2} / 3) ^ 2 * \\sqrt{1 + n ^ 2} $$\n",
    "$$ Jy = \\sum J_i $$"
   ]
  },
  {
   "cell_type": "markdown",
   "metadata": {},
   "source": [
    "$$ \\sigma_z = \\frac{\\sum N}{F} \\mp \\frac{\\sum M_cm \\times x}{J_y} $$"
   ]
  },
  {
   "cell_type": "markdown",
   "metadata": {},
   "source": [
    "$$ \\sigma_{x,A} = (1 - n ^ 2) p_A + n ^ 2 \\sigma_{z,A} $$\n",
    "\n",
    "$$ \\sigma_{x,B} = (1 - m ^ 2) p_B + m ^ 2 \\sigma_{z,B} $$\n",
    "\n",
    "$$ \\sigma_x = \\frac{\\sigma_{x,A} (x_B - x) D + \\sigma_{x,B} (x - x_A) d}{B d(x)} $$"
   ]
  },
  {
   "cell_type": "markdown",
   "metadata": {},
   "source": [
    "$$ d(x) =\n",
    "\\begin{cases}\n",
    "D, \\qquad \\qquad \\qquad \\qquad \\,x \\in [x_A; x_{C1}]\\\\\n",
    "D - \\frac{D - d}{x_{C2} - x_{C1}} (x - x_{C1}), \\quad x \\in [x_{C1}; x_{C2}]\\\\\n",
    "d, \\qquad \\qquad \\qquad \\qquad \\; x \\in [x_{C2}; x_B]\\\\\n",
    "\\end{cases}\n",
    "$$"
   ]
  },
  {
   "cell_type": "markdown",
   "metadata": {},
   "source": [
    "$$ \\tau_{xz,A} = n (p_A - \\sigma_{z,A}) $$\n",
    "\n",
    "$$ \\tau_{xz,B} = -m (p_B - \\sigma_{z,B}) $$"
   ]
  },
  {
   "cell_type": "markdown",
   "metadata": {},
   "source": []
  }
 ],
 "metadata": {
  "kernelspec": {
   "display_name": "Python 3",
   "language": "python",
   "name": "python3"
  },
  "language_info": {
   "codemirror_mode": {
    "name": "ipython",
    "version": 3
   },
   "file_extension": ".py",
   "mimetype": "text/x-python",
   "name": "python",
   "nbconvert_exporter": "python",
   "pygments_lexer": "ipython3",
   "version": "3.6.5"
  }
 },
 "nbformat": 4,
 "nbformat_minor": 2
}
