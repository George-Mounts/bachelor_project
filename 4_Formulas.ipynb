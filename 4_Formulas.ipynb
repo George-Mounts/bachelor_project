{
 "cells": [
  {
   "cell_type": "markdown",
   "metadata": {},
   "source": [
    "$$ x_A = (0.5 * B ^ 2  d + a  b ^ 2 + a ^ 2  (b + a  \\sqrt{1 + n ^ 2} / 3)  \\sqrt{1 + n ^ 2}) / F $$"
   ]
  },
  {
   "cell_type": "markdown",
   "metadata": {},
   "source": [
    "$$ x_B = B - x_A $$"
   ]
  },
  {
   "cell_type": "markdown",
   "metadata": {},
   "source": [
    "$$ Jy_0 = B ^ 3  d / 12 $$"
   ]
  },
  {
   "cell_type": "markdown",
   "metadata": {},
   "source": [
    "$$ Jy_1 = a  b ^ 3 / 6 $$"
   ]
  },
  {
   "cell_type": "markdown",
   "metadata": {},
   "source": [
    "$$ Jy_2 = \\frac {a ^ 4}{18} (1 + n ^ 2) ^ {1.5} $$"
   ]
  },
  {
   "cell_type": "markdown",
   "metadata": {},
   "source": [
    "$$ Jy_3 = (x_A - 0.5  B) ^ 2  B  d $$"
   ]
  },
  {
   "cell_type": "markdown",
   "metadata": {},
   "source": [
    "$$ Jy_4 = 2  (x_A - 0.5  b) ^ 2  a  b $$"
   ]
  },
  {
   "cell_type": "markdown",
   "metadata": {},
   "source": [
    "$$ Jy_5 = a ^ 2 (x_A - b - a  \\sqrt{1 + n ^ 2} / 3) ^ 2  \\sqrt{1 + n ^ 2} $$"
   ]
  },
  {
   "cell_type": "markdown",
   "metadata": {},
   "source": [
    "$$ Jy = \\sum J_{yi} $$"
   ]
  },
  {
   "cell_type": "markdown",
   "metadata": {},
   "source": [
    "$$W_A = \\frac{J_y}{|x_A|}$$"
   ]
  },
  {
   "cell_type": "markdown",
   "metadata": {},
   "source": [
    "$$W_B = \\frac{J_y}{|x_B|}$$"
   ]
  },
  {
   "cell_type": "markdown",
   "metadata": {},
   "source": [
    "$$F = B d + a (2  b + a  \\sqrt{1 + n ^ 2})$$"
   ]
  },
  {
   "cell_type": "markdown",
   "metadata": {},
   "source": [
    "$$a = (D - d) / 2 $$"
   ]
  },
  {
   "cell_type": "markdown",
   "metadata": {},
   "source": [
    "## Own weight"
   ]
  },
  {
   "cell_type": "markdown",
   "metadata": {},
   "source": [
    "$$ G_1 = 0.5  \\gamma_c  B  Ht  d $$\n",
    "\n",
    "$$ M_1 = \\gamma_c  Ht  B  d  (B - 3  x_A + n  H_t) / 6 $$"
   ]
  },
  {
   "cell_type": "markdown",
   "metadata": {},
   "source": [
    "$$ G_2 = \\gamma_c  H_t  (a  \\sqrt{1 + n ^ 2} + 2  b)  a $$\n",
    "\n",
    "$$ M_{2,1} = b  (2  x_A - b - n  H_t) $$\n",
    "\n",
    "$$ M_{2,2} = a  \\sqrt{1 + n ^ 2}  (x_A - b - (n  H_t) / 2 - (a  \\sqrt{1 + n ^ 2}) / 3) $$\n",
    "\n",
    "$$ M_2 = -\\gamma_c  H_t  a ( M_{2,1} + M_{2,2} ) $$"
   ]
  },
  {
   "cell_type": "markdown",
   "metadata": {},
   "source": [
    "$$ d_{hw} = \\pi  h_w ^ 2 / L_w $$\n",
    "$$ d_c = hw + d_{hw} + 0.6 $$"
   ]
  },
  {
   "cell_type": "markdown",
   "metadata": {},
   "source": [
    "$$ G_3 = \\gamma_c  B_c  D  d_c $$\n",
    "$$ M_3 = -G_3 * (x_A - n  H_t - e_c) $$"
   ]
  },
  {
   "cell_type": "markdown",
   "metadata": {},
   "source": [
    "$$ a_1 = (0.5  B_c - e_c) $$\n",
    "$$ a_2 = (0.5  B_c + e_c) $$"
   ]
  },
  {
   "cell_type": "markdown",
   "metadata": {},
   "source": [
    "$$ G4 = 0.5  \\gamma_c  D  a_1 ^ 2 / n $$\n",
    "$$ M4 = -G4  (x_A - n  H_t + 2  a_1 / 3) $$"
   ]
  },
  {
   "cell_type": "markdown",
   "metadata": {},
   "source": [
    "$$ G5 = -0.5  \\gamma_c  n  D  a_2 ^ 2 / m ^ 2 $$\n",
    "$$ M_{5,1} = \\frac{2  n  a_2 }{ 3  m} $$\n",
    "$$ M_5 = -G_5 * (x_A - b - n  H_t + M_{5,1}) $$"
   ]
  },
  {
   "cell_type": "markdown",
   "metadata": {},
   "source": [
    "$$ a^* = \\frac{a_2  (b + a  \\sqrt{1 + n ^ 2})  \\sqrt{1 + n ^ 2}} {m  b} $$\n",
    "$$ b^* = x_A - b - n  H_t - a  \\sqrt{1 + n ^ 2} $$\n",
    "$$ n_1 = \\frac {1 - n  m}{n + m} $$"
   ]
  },
  {
   "cell_type": "markdown",
   "metadata": {},
   "source": [
    "$$ G_{6,1} = a^* - \\frac{2  a  \\sqrt{1 + n ^ 2}  H_t} { 3  B} $$\n",
    "\n",
    "$$ G_6 = -\\gamma_c  a ^ 2  G_{6,1} $$"
   ]
  },
  {
   "cell_type": "markdown",
   "metadata": {},
   "source": [
    "$$ M_{6,1} = \\frac{n  (2 + n ^ 2)}{\\sqrt{1 + n ^ 2}} + \\frac{n_1  (2 - n ^ 2)}{ \\sqrt{1 + n_1 ^ 2}} $$"
   ]
  },
  {
   "cell_type": "markdown",
   "metadata": {},
   "source": [
    "$$ M_{6,2} = n  n_1  a^* + (n + n_1)  b^* + \\frac{3  a  M_{6,1}}{8} $$"
   ]
  },
  {
   "cell_type": "markdown",
   "metadata": {},
   "source": [
    "$$ M_{6,2,2} = b^* + \\frac{n  a}{2} + \\frac{2  a} { 3  \\sqrt{1 + n ^ 2}} $$"
   ]
  },
  {
   "cell_type": "markdown",
   "metadata": {},
   "source": [
    "$$ M_{6,3} = a^*  M_{6,2,2} - 2  a  M_{6,2} / 3 $$"
   ]
  },
  {
   "cell_type": "markdown",
   "metadata": {},
   "source": [
    "$$ M_6 = \\gamma_c  a ^ 2  M_{6,3} $$"
   ]
  },
  {
   "cell_type": "markdown",
   "metadata": {},
   "source": [
    "## Hydro pressure"
   ]
  },
  {
   "cell_type": "markdown",
   "metadata": {},
   "source": [
    "$$ W_{up,hrz} = 0.5  \\gamma_w  H_t ^ 2  D $$\n",
    "$$ M_{up,hrz} = \\gamma_w  H_t ^ 3  D / 6 $$"
   ]
  },
  {
   "cell_type": "markdown",
   "metadata": {},
   "source": [
    "$$ W_{up,vrt} = n  W_{up,hrz} $$\n",
    "$$ M_{up,vrt} = -\\gamma_w  n  D  H_t ^ 2  (3  x_A - n  H_t) / 6 $$"
   ]
  },
  {
   "cell_type": "markdown",
   "metadata": {},
   "source": [
    "$$ W_{low,hrz} = -0.5  \\gamma_w  H_2 ^ 2  D $$\n",
    "$$ M_{low,hrz} = W_{low,hrz} * H_2 / 3 $$"
   ]
  },
  {
   "cell_type": "markdown",
   "metadata": {},
   "source": [
    "$$ W_{low,vrt} = (n - \\frac{B  d}{H_t  D}) * W_{low,hrz} $$"
   ]
  },
  {
   "cell_type": "markdown",
   "metadata": {},
   "source": [
    "$$ M_{low,vrt,1} = |x_A| - b - \\frac{a}{2} - \\frac{n  H_2}{3} $$\n",
    "$$ M_{low,vrt,2} = x_B - m  H_2 $$\n",
    "$$ M_{low,vrt,3} = 2  n  a  M_{low,vrt,1} + m  M_{low,vrt,2}  d $$\n",
    "$$ M_{low,vrt} = \\frac{M_{low,vrt,3}  W_{low,vrt}}{D} $$"
   ]
  },
  {
   "cell_type": "markdown",
   "metadata": {},
   "source": [
    "## Anti-pressure"
   ]
  },
  {
   "cell_type": "markdown",
   "metadata": {},
   "source": [
    "$$ U_1 = -\\gamma_w  H_2  [D  b + \\frac{a  (D + d) }{2} + (B - b - a) d] $$\n",
    "$$ M_{U1} = 0 $$"
   ]
  },
  {
   "cell_type": "markdown",
   "metadata": {},
   "source": [
    "$$ U_2 = -\\gamma_w (H_t - H_2)  (b + a)  D $$\n",
    "$$ M_{U2} = -U_2  (|x_A| - \\frac{b + a}{2}) $$"
   ]
  },
  {
   "cell_type": "markdown",
   "metadata": {},
   "source": [
    "## Alluvium pressure"
   ]
  },
  {
   "cell_type": "markdown",
   "metadata": {},
   "source": [
    "$$ W_{allu,hrz} = 0.5  \\gamma_{allu}  H_{allu} ^ 2  D $$\n",
    "$$ M_{allu,hrz} = W_{allu,hrz}  H_{allu} / 3 $$"
   ]
  },
  {
   "cell_type": "markdown",
   "metadata": {},
   "source": [
    "$$ W_{allu,vrt} = 0.5  \\gamma_{allu}  n  H_{allu} ^ 2  D $$\n",
    "$$ M_{allu,vrt} = -W_{allu,vrt}(|x_A| - \\frac{n  H_{allu}}{3}) $$"
   ]
  },
  {
   "cell_type": "markdown",
   "metadata": {},
   "source": [
    "## Wave pressure"
   ]
  },
  {
   "cell_type": "markdown",
   "metadata": {},
   "source": [
    "$$ W_{wave,hrz} = \\gamma_w  h_w  (\\frac{L_w}{\\pi}  + \\frac{h_w}{2}) \\frac{D}{2} $$\n",
    "$$ M_{wave,hrz} = W_{wave,hrz}  (H_t - \\frac{L_w }{ 2  \\pi} + \\frac{3 h_w}{8}) $$"
   ]
  },
  {
   "cell_type": "markdown",
   "metadata": {},
   "source": [
    "$$ W_{wave,vrt} = W_{wave,hrz}  n $$"
   ]
  },
  {
   "cell_type": "markdown",
   "metadata": {},
   "source": [
    "## Ice pressure"
   ]
  },
  {
   "cell_type": "markdown",
   "metadata": {},
   "source": [
    "$$ W_{ice} = R_{ice} h_{ice} D $$\n",
    "$$ M_{ice} = W_{ice} (H_t - 0.45 h_{ice} $$"
   ]
  },
  {
   "cell_type": "markdown",
   "metadata": {},
   "source": [
    "## Summary"
   ]
  },
  {
   "cell_type": "markdown",
   "metadata": {},
   "source": [
    "Under construction\n",
    "$$ N = G_1 + G_2 + G_3 + G_4 + G_5 + G_6 $$\n",
    "$$ Q = 0 $$\n",
    "$$ M = M_1 + M_2 + M_3 + M_4 + M_5 + M_6 $$"
   ]
  },
  {
   "cell_type": "markdown",
   "metadata": {},
   "source": [
    "In use\n",
    "$$ N = G_1 + G_2 + G_3 + G_4 + G_5 + G_6 + W_{up,vrt} + W_{low,vrt} + U_1 + U_2 + W_{wave,vrt} + W_{allu,vrt} $$\n",
    "$$ Q = W_{up,hrz} + W_{low,hrz} + W_{allu,hrz} + W_{wave,hrz} $$\n",
    "$$ M_{water} = M_{up,hrz} + M_{up,vrt} + M_{low,hrz} + M_{low,vrt} $$\n",
    "$$ M = M_1 + M_2 + M_3 + M_4 + M_5 + M_6 + M_{water} + M_{U2} + M_{allu,hrz} + M_{allu,vrt} + M_{wave,hrz} $$"
   ]
  },
  {
   "cell_type": "markdown",
   "metadata": {},
   "source": [
    "## Optimal \"B\" and \"n\""
   ]
  },
  {
   "cell_type": "markdown",
   "metadata": {},
   "source": [
    "$$ [\\sigma_{z,A}]  B ^ 2 - N  B + 6  M = 0 $$"
   ]
  },
  {
   "cell_type": "markdown",
   "metadata": {},
   "source": [
    "$$ f  N + c  B - k_3 * Q = 0 $$"
   ]
  },
  {
   "cell_type": "markdown",
   "metadata": {},
   "source": [
    "## Stresses"
   ]
  },
  {
   "cell_type": "markdown",
   "metadata": {},
   "source": [
    "Sigma Z\n",
    "$$ \\sigma_z = \\frac{N}{F} + \\frac{M}{J_y}x $$\n",
    "$$ x \\in [x_A, x_B] $$"
   ]
  },
  {
   "cell_type": "markdown",
   "metadata": {},
   "source": [
    "$$ \\sigma_{z,A} = \\frac{N}{F} + \\frac{M}{J_y}x_A $$\n",
    "$$ \\sigma_{z,B} = \\frac{N}{F} + \\frac{M}{J_y}x_B $$"
   ]
  },
  {
   "cell_type": "markdown",
   "metadata": {},
   "source": [
    "Sigma X\n",
    "$$ p_A = \\gamma_w  H_t + \\gamma_{allu}  H_{allu} $$\n",
    "$$ p_B = \\gamma_w  H_2 $$"
   ]
  },
  {
   "cell_type": "markdown",
   "metadata": {},
   "source": [
    "$$ \\sigma_{x,A} = (1 - n ^ 2)  p_A + n ^ 2  \\sigma_{z,A} $$\n",
    "$$ \\sigma_{x,B} = (1 - m ^ 2)  p_B + m ^ 2  \\sigma_{z,B} $$"
   ]
  },
  {
   "cell_type": "markdown",
   "metadata": {},
   "source": [
    "$$ \\sigma_x = \\frac{\\sigma_{x,A} (x_B - x) D + \\sigma_{x,B} (x - x_A) d}{B [d(x)]} $$"
   ]
  },
  {
   "cell_type": "markdown",
   "metadata": {},
   "source": [
    "$$ [d(x)] =\n",
    "\\begin{cases}\n",
    "D, \\qquad \\qquad \\qquad \\qquad \\,x \\in [x_A; x_{C1}]\\\\\n",
    "D - \\frac{D - d}{x_{C2} - x_{C1}} (x - x_{C1}), \\quad x \\in [x_{C1}; x_{C2}]\\\\\n",
    "d, \\qquad \\qquad \\qquad \\qquad \\; x \\in [x_{C2}; x_B]\\\\\n",
    "\\end{cases}\n",
    "$$"
   ]
  },
  {
   "cell_type": "markdown",
   "metadata": {},
   "source": [
    "Tau XZ\n",
    "\n",
    "$$ \\tau_{xz,A} = n (p_A - \\sigma_{z,A}) $$\n",
    "\n",
    "$$ \\tau_{xz,B} = -m (p_B - \\sigma_{z,B}) $$"
   ]
  },
  {
   "cell_type": "markdown",
   "metadata": {},
   "source": [
    "$$ \\tau_{xz} = \\tilde{\\tau_{xz}} + \\Delta \\tau_{xz} $$"
   ]
  },
  {
   "cell_type": "markdown",
   "metadata": {},
   "source": [
    "$$ \\tilde{\\tau_{xz}} = \\frac{\\tau_{xz,A} (x_B - x) D + \\tau_{xz,B} (x - x_A) d }{B [d(x)]} $$\n",
    "\n",
    "$$ x \\in [x_A, x_B] $$"
   ]
  },
  {
   "cell_type": "markdown",
   "metadata": {},
   "source": [
    "$$ \\Delta Q = Q - (\\tau_{xz,A} D + \\tau_{xz,B} d) B / 2 $$"
   ]
  },
  {
   "cell_type": "markdown",
   "metadata": {},
   "source": [
    "$$ \\Delta \\tau (x) =\n",
    "\\begin{cases}\n",
    "0.5  (x_A ^ 2 - x ^ 2), \\qquad \\qquad \\qquad \\qquad \\quad \\: x \\in [x_A; x_{C1}]\\\\\n",
    "\\frac{3D(x_{C2}-x_{C1})(x_A ^ 2 - x ^ 2)+(D-d)(2x+x_{C1})(x-x_{C1})^2}{6[D(x_{C2}-x_{C1})-(D-d)(x-x_{C1})]}, \\quad  x \\in [x_{C1}; x_{C2}]\\\\\n",
    "\\frac{3D(x_A^2-x^2)+(D-d)(3x^2-x_{C1}^2-x_{C1}x_{C2}-x_{C2}^2)}{6 d}, \\quad \\quad \\: x \\in [x_{C2}; 0]\\\\\n",
    "0.5  (x_B ^ 2 - x ^ 2), \\qquad \\qquad \\qquad \\qquad \\quad \\; x \\in [0; x_B]\\\\\n",
    "\\end{cases}\n",
    "$$"
   ]
  },
  {
   "cell_type": "markdown",
   "metadata": {},
   "source": []
  },
  {
   "cell_type": "markdown",
   "metadata": {},
   "source": []
  },
  {
   "cell_type": "markdown",
   "metadata": {},
   "source": []
  },
  {
   "cell_type": "markdown",
   "metadata": {},
   "source": []
  },
  {
   "cell_type": "markdown",
   "metadata": {},
   "source": []
  },
  {
   "cell_type": "markdown",
   "metadata": {},
   "source": []
  },
  {
   "cell_type": "markdown",
   "metadata": {},
   "source": [
    "$$ sqrt1n = \\sqrt{1 + n ^ 2} $$\n",
    "$$ sqrt1n_1 = \\sqrt{1 + n_1 ^ 2} $$"
   ]
  }
 ],
 "metadata": {
  "kernelspec": {
   "display_name": "Python 3",
   "language": "python",
   "name": "python3"
  },
  "language_info": {
   "codemirror_mode": {
    "name": "ipython",
    "version": 3
   },
   "file_extension": ".py",
   "mimetype": "text/x-python",
   "name": "python",
   "nbconvert_exporter": "python",
   "pygments_lexer": "ipython3",
   "version": "3.6.5"
  }
 },
 "nbformat": 4,
 "nbformat_minor": 2
}
